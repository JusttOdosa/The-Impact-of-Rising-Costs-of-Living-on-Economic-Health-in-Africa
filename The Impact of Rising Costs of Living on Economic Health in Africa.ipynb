{
 "cells": [
  {
   "cell_type": "code",
   "execution_count": 1,
   "id": "03d4c451",
   "metadata": {},
   "outputs": [],
   "source": [
    "import pandas as pd\n",
    "import numpy as np\n",
    "import matplotlib.pyplot as plt\n",
    "import seaborn as sns\n",
    "from scipy import stats\n",
    "from scipy import stats\n",
    "\n",
    "# Importing relevant libraries"
   ]
  },
  {
   "cell_type": "markdown",
   "id": "35862491",
   "metadata": {},
   "source": [
    "# Data Importing and Pre-processing"
   ]
  },
  {
   "cell_type": "code",
   "execution_count": 2,
   "id": "0594bbfb",
   "metadata": {},
   "outputs": [],
   "source": [
    "col = pd.read_csv(\"cost of living.csv\")\n",
    "gdp = pd.read_csv(\"gdp.csv\")\n",
    "icp = pd.read_csv(\"inflation of consumer prices.csv\")\n",
    "cpi = pd.read_csv(\"consumer price index.csv\")\n",
    "unemployment = pd.read_csv(\"unemployment rate.csv\")\n",
    "\n",
    "# Importing the datasets"
   ]
  },
  {
   "cell_type": "code",
   "execution_count": 3,
   "id": "17040a10",
   "metadata": {},
   "outputs": [],
   "source": [
    "poverty = pd.read_csv(r\"C:\\Users\\ODOSA\\Downloads\\total-population-in-extreme-poverty - total-population-in-extreme-poverty.csv\")"
   ]
  },
  {
   "cell_type": "code",
   "execution_count": 4,
   "id": "768ae4ab",
   "metadata": {},
   "outputs": [
    {
     "data": {
      "text/html": [
       "<div>\n",
       "<style scoped>\n",
       "    .dataframe tbody tr th:only-of-type {\n",
       "        vertical-align: middle;\n",
       "    }\n",
       "\n",
       "    .dataframe tbody tr th {\n",
       "        vertical-align: top;\n",
       "    }\n",
       "\n",
       "    .dataframe thead th {\n",
       "        text-align: right;\n",
       "    }\n",
       "</style>\n",
       "<table border=\"1\" class=\"dataframe\">\n",
       "  <thead>\n",
       "    <tr style=\"text-align: right;\">\n",
       "      <th></th>\n",
       "      <th>Country</th>\n",
       "      <th>Cost of Living Index</th>\n",
       "      <th>Rent Index</th>\n",
       "      <th>Cost of Living Plus Rent Index</th>\n",
       "      <th>Groceries Index</th>\n",
       "      <th>Restaurant Price Index</th>\n",
       "      <th>Local Purchasing Power Index</th>\n",
       "    </tr>\n",
       "  </thead>\n",
       "  <tbody>\n",
       "    <tr>\n",
       "      <th>0</th>\n",
       "      <td>Switzerland</td>\n",
       "      <td>101.1</td>\n",
       "      <td>46.5</td>\n",
       "      <td>74.9</td>\n",
       "      <td>109.1</td>\n",
       "      <td>97.0</td>\n",
       "      <td>158.7</td>\n",
       "    </tr>\n",
       "    <tr>\n",
       "      <th>1</th>\n",
       "      <td>Bahamas</td>\n",
       "      <td>85.0</td>\n",
       "      <td>36.7</td>\n",
       "      <td>61.8</td>\n",
       "      <td>81.6</td>\n",
       "      <td>83.3</td>\n",
       "      <td>54.6</td>\n",
       "    </tr>\n",
       "    <tr>\n",
       "      <th>2</th>\n",
       "      <td>Iceland</td>\n",
       "      <td>83.0</td>\n",
       "      <td>39.2</td>\n",
       "      <td>62.0</td>\n",
       "      <td>88.4</td>\n",
       "      <td>86.8</td>\n",
       "      <td>120.3</td>\n",
       "    </tr>\n",
       "    <tr>\n",
       "      <th>3</th>\n",
       "      <td>Singapore</td>\n",
       "      <td>76.7</td>\n",
       "      <td>67.2</td>\n",
       "      <td>72.1</td>\n",
       "      <td>74.6</td>\n",
       "      <td>50.4</td>\n",
       "      <td>111.1</td>\n",
       "    </tr>\n",
       "    <tr>\n",
       "      <th>4</th>\n",
       "      <td>Barbados</td>\n",
       "      <td>76.6</td>\n",
       "      <td>19.0</td>\n",
       "      <td>48.9</td>\n",
       "      <td>80.8</td>\n",
       "      <td>69.4</td>\n",
       "      <td>43.5</td>\n",
       "    </tr>\n",
       "  </tbody>\n",
       "</table>\n",
       "</div>"
      ],
      "text/plain": [
       "       Country  Cost of Living Index  Rent Index  \\\n",
       "0  Switzerland                 101.1        46.5   \n",
       "1      Bahamas                  85.0        36.7   \n",
       "2      Iceland                  83.0        39.2   \n",
       "3    Singapore                  76.7        67.2   \n",
       "4     Barbados                  76.6        19.0   \n",
       "\n",
       "   Cost of Living Plus Rent Index  Groceries Index  Restaurant Price Index  \\\n",
       "0                            74.9            109.1                    97.0   \n",
       "1                            61.8             81.6                    83.3   \n",
       "2                            62.0             88.4                    86.8   \n",
       "3                            72.1             74.6                    50.4   \n",
       "4                            48.9             80.8                    69.4   \n",
       "\n",
       "   Local Purchasing Power Index  \n",
       "0                         158.7  \n",
       "1                          54.6  \n",
       "2                         120.3  \n",
       "3                         111.1  \n",
       "4                          43.5  "
      ]
     },
     "execution_count": 4,
     "metadata": {},
     "output_type": "execute_result"
    }
   ],
   "source": [
    "col.head()\n",
    "\n",
    "# To get the first 5 rows of the Data"
   ]
  },
  {
   "cell_type": "code",
   "execution_count": 5,
   "id": "a173f0b7",
   "metadata": {},
   "outputs": [
    {
     "data": {
      "text/plain": [
       "Country                           0\n",
       "Cost of Living Index              0\n",
       "Rent Index                        0\n",
       "Cost of Living Plus Rent Index    0\n",
       "Groceries Index                   0\n",
       "Restaurant Price Index            0\n",
       "Local Purchasing Power Index      0\n",
       "dtype: int64"
      ]
     },
     "execution_count": 5,
     "metadata": {},
     "output_type": "execute_result"
    }
   ],
   "source": [
    "col.isna().sum()\n",
    "\n",
    "# Getting sum of null values in the column of the data"
   ]
  },
  {
   "cell_type": "code",
   "execution_count": 6,
   "id": "0ad94de3",
   "metadata": {},
   "outputs": [
    {
     "name": "stdout",
     "output_type": "stream",
     "text": [
      "<class 'pandas.core.frame.DataFrame'>\n",
      "RangeIndex: 121 entries, 0 to 120\n",
      "Data columns (total 7 columns):\n",
      " #   Column                          Non-Null Count  Dtype  \n",
      "---  ------                          --------------  -----  \n",
      " 0   Country                         121 non-null    object \n",
      " 1   Cost of Living Index            121 non-null    float64\n",
      " 2   Rent Index                      121 non-null    float64\n",
      " 3   Cost of Living Plus Rent Index  121 non-null    float64\n",
      " 4   Groceries Index                 121 non-null    float64\n",
      " 5   Restaurant Price Index          121 non-null    float64\n",
      " 6   Local Purchasing Power Index    121 non-null    float64\n",
      "dtypes: float64(6), object(1)\n",
      "memory usage: 6.7+ KB\n"
     ]
    }
   ],
   "source": [
    "col.info()\n",
    "\n",
    "# providing consise summary for the dataframe"
   ]
  },
  {
   "cell_type": "code",
   "execution_count": 7,
   "id": "7b33ad7a",
   "metadata": {},
   "outputs": [
    {
     "data": {
      "text/html": [
       "<div>\n",
       "<style scoped>\n",
       "    .dataframe tbody tr th:only-of-type {\n",
       "        vertical-align: middle;\n",
       "    }\n",
       "\n",
       "    .dataframe tbody tr th {\n",
       "        vertical-align: top;\n",
       "    }\n",
       "\n",
       "    .dataframe thead th {\n",
       "        text-align: right;\n",
       "    }\n",
       "</style>\n",
       "<table border=\"1\" class=\"dataframe\">\n",
       "  <thead>\n",
       "    <tr style=\"text-align: right;\">\n",
       "      <th></th>\n",
       "      <th>Entity</th>\n",
       "      <th>Year</th>\n",
       "      <th>GDP per capita</th>\n",
       "    </tr>\n",
       "  </thead>\n",
       "  <tbody>\n",
       "    <tr>\n",
       "      <th>0</th>\n",
       "      <td>Afghanistan</td>\n",
       "      <td>2002</td>\n",
       "      <td>1,280.46</td>\n",
       "    </tr>\n",
       "    <tr>\n",
       "      <th>1</th>\n",
       "      <td>Afghanistan</td>\n",
       "      <td>2003</td>\n",
       "      <td>1,292.33</td>\n",
       "    </tr>\n",
       "    <tr>\n",
       "      <th>2</th>\n",
       "      <td>Afghanistan</td>\n",
       "      <td>2004</td>\n",
       "      <td>1,260.06</td>\n",
       "    </tr>\n",
       "    <tr>\n",
       "      <th>3</th>\n",
       "      <td>Afghanistan</td>\n",
       "      <td>2005</td>\n",
       "      <td>1,352.32</td>\n",
       "    </tr>\n",
       "    <tr>\n",
       "      <th>4</th>\n",
       "      <td>Afghanistan</td>\n",
       "      <td>2006</td>\n",
       "      <td>1,366.99</td>\n",
       "    </tr>\n",
       "  </tbody>\n",
       "</table>\n",
       "</div>"
      ],
      "text/plain": [
       "        Entity  Year GDP per capita\n",
       "0  Afghanistan  2002       1,280.46\n",
       "1  Afghanistan  2003       1,292.33\n",
       "2  Afghanistan  2004       1,260.06\n",
       "3  Afghanistan  2005       1,352.32\n",
       "4  Afghanistan  2006       1,366.99"
      ]
     },
     "execution_count": 7,
     "metadata": {},
     "output_type": "execute_result"
    }
   ],
   "source": [
    "gdp.head()\n",
    "\n",
    "# To get the first 5 rows of the Data"
   ]
  },
  {
   "cell_type": "code",
   "execution_count": 8,
   "id": "d753980d",
   "metadata": {},
   "outputs": [
    {
     "data": {
      "text/plain": [
       "Entity            0\n",
       "Year              0\n",
       "GDP per capita    0\n",
       "dtype: int64"
      ]
     },
     "execution_count": 8,
     "metadata": {},
     "output_type": "execute_result"
    }
   ],
   "source": [
    "gdp.isna().sum()\n",
    "\n",
    "# Getting sum of null values in the column of the data"
   ]
  },
  {
   "cell_type": "code",
   "execution_count": 9,
   "id": "353c4f22",
   "metadata": {},
   "outputs": [
    {
     "name": "stdout",
     "output_type": "stream",
     "text": [
      "<class 'pandas.core.frame.DataFrame'>\n",
      "RangeIndex: 6562 entries, 0 to 6561\n",
      "Data columns (total 3 columns):\n",
      " #   Column          Non-Null Count  Dtype \n",
      "---  ------          --------------  ----- \n",
      " 0   Entity          6562 non-null   object\n",
      " 1   Year            6562 non-null   int64 \n",
      " 2   GDP per capita  6562 non-null   object\n",
      "dtypes: int64(1), object(2)\n",
      "memory usage: 153.9+ KB\n"
     ]
    }
   ],
   "source": [
    "gdp.info()\n",
    "\n",
    "# providing consise summary for the dataframe"
   ]
  },
  {
   "cell_type": "code",
   "execution_count": 10,
   "id": "c52c2e29",
   "metadata": {},
   "outputs": [],
   "source": [
    "gdp['Year'] = pd.to_datetime(gdp['Year'], format='%Y')\n",
    "# Convert the 'Year' column to datetime\n",
    "\n",
    "gdp['GDP per capita'] = gdp['GDP per capita'].str.replace(',', '').astype(float)\n",
    "# Convert the 'GDP per capita' column to float64"
   ]
  },
  {
   "cell_type": "code",
   "execution_count": 11,
   "id": "5a3c28bd",
   "metadata": {},
   "outputs": [
    {
     "name": "stdout",
     "output_type": "stream",
     "text": [
      "Column: Entity, Data Type: object\n",
      "Column: Year, Data Type: datetime64[ns]\n",
      "Column: GDP per capita, Data Type: float64\n"
     ]
    }
   ],
   "source": [
    "for column, dtype in gdp.dtypes.items():\n",
    "    print(f\"Column: {column}, Data Type: {dtype}\")\n",
    "    \n",
    "# confirming change in Datatype"
   ]
  },
  {
   "cell_type": "code",
   "execution_count": 12,
   "id": "a284d00f",
   "metadata": {},
   "outputs": [
    {
     "data": {
      "text/html": [
       "<div>\n",
       "<style scoped>\n",
       "    .dataframe tbody tr th:only-of-type {\n",
       "        vertical-align: middle;\n",
       "    }\n",
       "\n",
       "    .dataframe tbody tr th {\n",
       "        vertical-align: top;\n",
       "    }\n",
       "\n",
       "    .dataframe thead th {\n",
       "        text-align: right;\n",
       "    }\n",
       "</style>\n",
       "<table border=\"1\" class=\"dataframe\">\n",
       "  <thead>\n",
       "    <tr style=\"text-align: right;\">\n",
       "      <th></th>\n",
       "      <th>Entity</th>\n",
       "      <th>Year</th>\n",
       "      <th>Inflation (annual %)</th>\n",
       "    </tr>\n",
       "  </thead>\n",
       "  <tbody>\n",
       "    <tr>\n",
       "      <th>0</th>\n",
       "      <td>Afghanistan</td>\n",
       "      <td>2005</td>\n",
       "      <td>12.686269</td>\n",
       "    </tr>\n",
       "    <tr>\n",
       "      <th>1</th>\n",
       "      <td>Afghanistan</td>\n",
       "      <td>2006</td>\n",
       "      <td>6.784596</td>\n",
       "    </tr>\n",
       "    <tr>\n",
       "      <th>2</th>\n",
       "      <td>Afghanistan</td>\n",
       "      <td>2007</td>\n",
       "      <td>8.680571</td>\n",
       "    </tr>\n",
       "    <tr>\n",
       "      <th>3</th>\n",
       "      <td>Afghanistan</td>\n",
       "      <td>2008</td>\n",
       "      <td>26.418665</td>\n",
       "    </tr>\n",
       "    <tr>\n",
       "      <th>4</th>\n",
       "      <td>Afghanistan</td>\n",
       "      <td>2009</td>\n",
       "      <td>-6.811161</td>\n",
       "    </tr>\n",
       "  </tbody>\n",
       "</table>\n",
       "</div>"
      ],
      "text/plain": [
       "        Entity  Year  Inflation (annual %)\n",
       "0  Afghanistan  2005             12.686269\n",
       "1  Afghanistan  2006              6.784596\n",
       "2  Afghanistan  2007              8.680571\n",
       "3  Afghanistan  2008             26.418665\n",
       "4  Afghanistan  2009             -6.811161"
      ]
     },
     "execution_count": 12,
     "metadata": {},
     "output_type": "execute_result"
    }
   ],
   "source": [
    "icp.head()\n",
    "\n",
    "# To get the first 5 rows of the Data"
   ]
  },
  {
   "cell_type": "code",
   "execution_count": 13,
   "id": "6d8db9c5",
   "metadata": {},
   "outputs": [
    {
     "data": {
      "text/plain": [
       "Entity                  0\n",
       "Year                    0\n",
       "Inflation (annual %)    0\n",
       "dtype: int64"
      ]
     },
     "execution_count": 13,
     "metadata": {},
     "output_type": "execute_result"
    }
   ],
   "source": [
    "icp.isna().sum()\n",
    "\n",
    "# Getting sum of null values in the column of the data"
   ]
  },
  {
   "cell_type": "code",
   "execution_count": 14,
   "id": "f79eacd1",
   "metadata": {},
   "outputs": [
    {
     "name": "stdout",
     "output_type": "stream",
     "text": [
      "<class 'pandas.core.frame.DataFrame'>\n",
      "RangeIndex: 9236 entries, 0 to 9235\n",
      "Data columns (total 3 columns):\n",
      " #   Column                Non-Null Count  Dtype  \n",
      "---  ------                --------------  -----  \n",
      " 0   Entity                9236 non-null   object \n",
      " 1   Year                  9236 non-null   int64  \n",
      " 2   Inflation (annual %)  9236 non-null   float64\n",
      "dtypes: float64(1), int64(1), object(1)\n",
      "memory usage: 216.6+ KB\n"
     ]
    }
   ],
   "source": [
    "icp.info()\n",
    "\n",
    "# providing consise summary for the dataframe"
   ]
  },
  {
   "cell_type": "code",
   "execution_count": 15,
   "id": "ddf2a882",
   "metadata": {},
   "outputs": [],
   "source": [
    "icp['Year'] = pd.to_datetime(gdp['Year'], format='%Y')\n",
    "\n",
    "# Convert the 'Year' column to datetime"
   ]
  },
  {
   "cell_type": "code",
   "execution_count": 16,
   "id": "bcc14781",
   "metadata": {},
   "outputs": [
    {
     "name": "stdout",
     "output_type": "stream",
     "text": [
      "Column: Entity, Data Type: object\n",
      "Column: Year, Data Type: datetime64[ns]\n",
      "Column: Inflation (annual %), Data Type: float64\n"
     ]
    }
   ],
   "source": [
    "for column, dtype in icp.dtypes.items():\n",
    "    print(f\"Column: {column}, Data Type: {dtype}\")\n",
    "    \n",
    "# confirming change in Datatype"
   ]
  },
  {
   "cell_type": "code",
   "execution_count": 17,
   "id": "dfc643bb",
   "metadata": {},
   "outputs": [
    {
     "data": {
      "text/html": [
       "<div>\n",
       "<style scoped>\n",
       "    .dataframe tbody tr th:only-of-type {\n",
       "        vertical-align: middle;\n",
       "    }\n",
       "\n",
       "    .dataframe tbody tr th {\n",
       "        vertical-align: top;\n",
       "    }\n",
       "\n",
       "    .dataframe thead th {\n",
       "        text-align: right;\n",
       "    }\n",
       "</style>\n",
       "<table border=\"1\" class=\"dataframe\">\n",
       "  <thead>\n",
       "    <tr style=\"text-align: right;\">\n",
       "      <th></th>\n",
       "      <th>Entity</th>\n",
       "      <th>Year</th>\n",
       "      <th>Consumer price index</th>\n",
       "    </tr>\n",
       "  </thead>\n",
       "  <tbody>\n",
       "    <tr>\n",
       "      <th>0</th>\n",
       "      <td>Afghanistan</td>\n",
       "      <td>2004</td>\n",
       "      <td>63.52</td>\n",
       "    </tr>\n",
       "    <tr>\n",
       "      <th>1</th>\n",
       "      <td>Afghanistan</td>\n",
       "      <td>2005</td>\n",
       "      <td>71.58</td>\n",
       "    </tr>\n",
       "    <tr>\n",
       "      <th>2</th>\n",
       "      <td>Afghanistan</td>\n",
       "      <td>2006</td>\n",
       "      <td>76.44</td>\n",
       "    </tr>\n",
       "    <tr>\n",
       "      <th>3</th>\n",
       "      <td>Afghanistan</td>\n",
       "      <td>2007</td>\n",
       "      <td>83.07</td>\n",
       "    </tr>\n",
       "    <tr>\n",
       "      <th>4</th>\n",
       "      <td>Afghanistan</td>\n",
       "      <td>2008</td>\n",
       "      <td>105.02</td>\n",
       "    </tr>\n",
       "  </tbody>\n",
       "</table>\n",
       "</div>"
      ],
      "text/plain": [
       "        Entity  Year Consumer price index\n",
       "0  Afghanistan  2004                63.52\n",
       "1  Afghanistan  2005                71.58\n",
       "2  Afghanistan  2006                76.44\n",
       "3  Afghanistan  2007                83.07\n",
       "4  Afghanistan  2008               105.02"
      ]
     },
     "execution_count": 17,
     "metadata": {},
     "output_type": "execute_result"
    }
   ],
   "source": [
    "cpi.head()\n",
    "\n",
    "# To get the first 5 rows of the Data"
   ]
  },
  {
   "cell_type": "code",
   "execution_count": 18,
   "id": "1de3e710",
   "metadata": {},
   "outputs": [
    {
     "data": {
      "text/plain": [
       "Entity                  0\n",
       "Year                    0\n",
       "Consumer price index    0\n",
       "dtype: int64"
      ]
     },
     "execution_count": 18,
     "metadata": {},
     "output_type": "execute_result"
    }
   ],
   "source": [
    "cpi.isna().sum()\n",
    "\n",
    "# Getting sum of null values in the column of the data"
   ]
  },
  {
   "cell_type": "code",
   "execution_count": 19,
   "id": "c28d7826",
   "metadata": {},
   "outputs": [
    {
     "name": "stdout",
     "output_type": "stream",
     "text": [
      "<class 'pandas.core.frame.DataFrame'>\n",
      "RangeIndex: 8709 entries, 0 to 8708\n",
      "Data columns (total 3 columns):\n",
      " #   Column                Non-Null Count  Dtype \n",
      "---  ------                --------------  ----- \n",
      " 0   Entity                8709 non-null   object\n",
      " 1   Year                  8709 non-null   int64 \n",
      " 2   Consumer price index  8709 non-null   object\n",
      "dtypes: int64(1), object(2)\n",
      "memory usage: 204.2+ KB\n"
     ]
    }
   ],
   "source": [
    "cpi.info()\n",
    "\n",
    "# providing consise summary for the dataframe"
   ]
  },
  {
   "cell_type": "code",
   "execution_count": 20,
   "id": "37a2ce25",
   "metadata": {},
   "outputs": [],
   "source": [
    "cpi['Year'] = pd.to_datetime(cpi['Year'], format='%Y')\n",
    "# Convert the 'Year' column to datetime\n",
    "\n",
    "cpi['Consumer price index'] = cpi['Consumer price index'].str.replace(',', '').astype(float)\n",
    "# Convert the 'Consumer price index' column to float64"
   ]
  },
  {
   "cell_type": "code",
   "execution_count": 21,
   "id": "a8367b0e",
   "metadata": {},
   "outputs": [
    {
     "name": "stdout",
     "output_type": "stream",
     "text": [
      "Column: Entity, Data Type: object\n",
      "Column: Year, Data Type: datetime64[ns]\n",
      "Column: Consumer price index, Data Type: float64\n"
     ]
    }
   ],
   "source": [
    "for column, dtype in cpi.dtypes.items():\n",
    "    print(f\"Column: {column}, Data Type: {dtype}\")\n",
    "    \n",
    "# confirming change in Datatype"
   ]
  },
  {
   "cell_type": "code",
   "execution_count": 22,
   "id": "a4e7493c",
   "metadata": {},
   "outputs": [
    {
     "data": {
      "text/html": [
       "<div>\n",
       "<style scoped>\n",
       "    .dataframe tbody tr th:only-of-type {\n",
       "        vertical-align: middle;\n",
       "    }\n",
       "\n",
       "    .dataframe tbody tr th {\n",
       "        vertical-align: top;\n",
       "    }\n",
       "\n",
       "    .dataframe thead th {\n",
       "        text-align: right;\n",
       "    }\n",
       "</style>\n",
       "<table border=\"1\" class=\"dataframe\">\n",
       "  <thead>\n",
       "    <tr style=\"text-align: right;\">\n",
       "      <th></th>\n",
       "      <th>Entity</th>\n",
       "      <th>Year</th>\n",
       "      <th>Unemployment, total (% of total labor force) (modeled ILO estimate)</th>\n",
       "    </tr>\n",
       "  </thead>\n",
       "  <tbody>\n",
       "    <tr>\n",
       "      <th>0</th>\n",
       "      <td>Afghanistan</td>\n",
       "      <td>1991</td>\n",
       "      <td>7.942</td>\n",
       "    </tr>\n",
       "    <tr>\n",
       "      <th>1</th>\n",
       "      <td>Afghanistan</td>\n",
       "      <td>1992</td>\n",
       "      <td>7.940</td>\n",
       "    </tr>\n",
       "    <tr>\n",
       "      <th>2</th>\n",
       "      <td>Afghanistan</td>\n",
       "      <td>1993</td>\n",
       "      <td>7.945</td>\n",
       "    </tr>\n",
       "    <tr>\n",
       "      <th>3</th>\n",
       "      <td>Afghanistan</td>\n",
       "      <td>1994</td>\n",
       "      <td>7.947</td>\n",
       "    </tr>\n",
       "    <tr>\n",
       "      <th>4</th>\n",
       "      <td>Afghanistan</td>\n",
       "      <td>1995</td>\n",
       "      <td>7.942</td>\n",
       "    </tr>\n",
       "  </tbody>\n",
       "</table>\n",
       "</div>"
      ],
      "text/plain": [
       "        Entity  Year  \\\n",
       "0  Afghanistan  1991   \n",
       "1  Afghanistan  1992   \n",
       "2  Afghanistan  1993   \n",
       "3  Afghanistan  1994   \n",
       "4  Afghanistan  1995   \n",
       "\n",
       "   Unemployment, total (% of total labor force) (modeled ILO estimate)  \n",
       "0                                              7.942                    \n",
       "1                                              7.940                    \n",
       "2                                              7.945                    \n",
       "3                                              7.947                    \n",
       "4                                              7.942                    "
      ]
     },
     "execution_count": 22,
     "metadata": {},
     "output_type": "execute_result"
    }
   ],
   "source": [
    "unemployment.head()\n",
    "\n",
    "# To get the first 5 rows of the Data"
   ]
  },
  {
   "cell_type": "code",
   "execution_count": 23,
   "id": "136d2c49",
   "metadata": {},
   "outputs": [
    {
     "data": {
      "text/plain": [
       "Entity                                                                 0\n",
       "Year                                                                   0\n",
       "Unemployment, total (% of total labor force) (modeled ILO estimate)    0\n",
       "dtype: int64"
      ]
     },
     "execution_count": 23,
     "metadata": {},
     "output_type": "execute_result"
    }
   ],
   "source": [
    "unemployment.isna().sum()\n",
    "\n",
    "# Getting sum of null values in the column of the data"
   ]
  },
  {
   "cell_type": "code",
   "execution_count": 24,
   "id": "129078b1",
   "metadata": {},
   "outputs": [
    {
     "name": "stdout",
     "output_type": "stream",
     "text": [
      "<class 'pandas.core.frame.DataFrame'>\n",
      "RangeIndex: 6431 entries, 0 to 6430\n",
      "Data columns (total 3 columns):\n",
      " #   Column                                                               Non-Null Count  Dtype  \n",
      "---  ------                                                               --------------  -----  \n",
      " 0   Entity                                                               6431 non-null   object \n",
      " 1   Year                                                                 6431 non-null   int64  \n",
      " 2   Unemployment, total (% of total labor force) (modeled ILO estimate)  6431 non-null   float64\n",
      "dtypes: float64(1), int64(1), object(1)\n",
      "memory usage: 150.9+ KB\n"
     ]
    }
   ],
   "source": [
    "unemployment.info()\n",
    "\n",
    "# providing consise summary for the dataframe"
   ]
  },
  {
   "cell_type": "code",
   "execution_count": 25,
   "id": "28287e35",
   "metadata": {},
   "outputs": [],
   "source": [
    "unemployment['Year'] = pd.to_datetime(unemployment['Year'], format='%Y')\n",
    "# Convert the 'Year' column to datetime"
   ]
  },
  {
   "cell_type": "code",
   "execution_count": 26,
   "id": "fac1ba55",
   "metadata": {},
   "outputs": [
    {
     "name": "stdout",
     "output_type": "stream",
     "text": [
      "Column: Entity, Data Type: object\n",
      "Column: Year, Data Type: datetime64[ns]\n",
      "Column: Inflation (annual %), Data Type: float64\n"
     ]
    }
   ],
   "source": [
    "for column, dtype in icp.dtypes.items():\n",
    "    print(f\"Column: {column}, Data Type: {dtype}\")\n",
    "    \n",
    "# confirming change in Datatype"
   ]
  },
  {
   "cell_type": "code",
   "execution_count": 27,
   "id": "4bc919c1",
   "metadata": {},
   "outputs": [
    {
     "data": {
      "text/html": [
       "<div>\n",
       "<style scoped>\n",
       "    .dataframe tbody tr th:only-of-type {\n",
       "        vertical-align: middle;\n",
       "    }\n",
       "\n",
       "    .dataframe tbody tr th {\n",
       "        vertical-align: top;\n",
       "    }\n",
       "\n",
       "    .dataframe thead th {\n",
       "        text-align: right;\n",
       "    }\n",
       "</style>\n",
       "<table border=\"1\" class=\"dataframe\">\n",
       "  <thead>\n",
       "    <tr style=\"text-align: right;\">\n",
       "      <th></th>\n",
       "      <th>Entity</th>\n",
       "      <th>Year</th>\n",
       "      <th>$2.15 a day - Number in poverty</th>\n",
       "      <th>Unnamed: 3</th>\n",
       "    </tr>\n",
       "  </thead>\n",
       "  <tbody>\n",
       "    <tr>\n",
       "      <th>0</th>\n",
       "      <td>Albania</td>\n",
       "      <td>1996</td>\n",
       "      <td>16944</td>\n",
       "      <td>NaN</td>\n",
       "    </tr>\n",
       "    <tr>\n",
       "      <th>1</th>\n",
       "      <td>Albania</td>\n",
       "      <td>2002</td>\n",
       "      <td>33337</td>\n",
       "      <td>NaN</td>\n",
       "    </tr>\n",
       "    <tr>\n",
       "      <th>2</th>\n",
       "      <td>Albania</td>\n",
       "      <td>2005</td>\n",
       "      <td>17800</td>\n",
       "      <td>NaN</td>\n",
       "    </tr>\n",
       "    <tr>\n",
       "      <th>3</th>\n",
       "      <td>Albania</td>\n",
       "      <td>2008</td>\n",
       "      <td>5892</td>\n",
       "      <td>NaN</td>\n",
       "    </tr>\n",
       "    <tr>\n",
       "      <th>4</th>\n",
       "      <td>Albania</td>\n",
       "      <td>2012</td>\n",
       "      <td>18003</td>\n",
       "      <td>NaN</td>\n",
       "    </tr>\n",
       "  </tbody>\n",
       "</table>\n",
       "</div>"
      ],
      "text/plain": [
       "    Entity  Year  $2.15 a day - Number in poverty Unnamed: 3\n",
       "0  Albania  1996                            16944        NaN\n",
       "1  Albania  2002                            33337        NaN\n",
       "2  Albania  2005                            17800        NaN\n",
       "3  Albania  2008                             5892        NaN\n",
       "4  Albania  2012                            18003        NaN"
      ]
     },
     "execution_count": 27,
     "metadata": {},
     "output_type": "execute_result"
    }
   ],
   "source": [
    "poverty.head()\n",
    "\n",
    "# getting first 5 rows of data"
   ]
  },
  {
   "cell_type": "code",
   "execution_count": 28,
   "id": "30506927",
   "metadata": {},
   "outputs": [],
   "source": [
    "poverty.drop(columns = \"Unnamed: 3\", inplace = True)\n",
    "\n",
    "# dropping \"Unnamed:3\" column"
   ]
  },
  {
   "cell_type": "code",
   "execution_count": 29,
   "id": "ff660b5d",
   "metadata": {},
   "outputs": [
    {
     "data": {
      "text/plain": [
       "Entity                             0\n",
       "Year                               0\n",
       "$2.15 a day - Number in poverty    0\n",
       "dtype: int64"
      ]
     },
     "execution_count": 29,
     "metadata": {},
     "output_type": "execute_result"
    }
   ],
   "source": [
    "poverty.isna().sum()\n",
    "\n",
    "# Getting sum of null values in the column of the data"
   ]
  },
  {
   "cell_type": "code",
   "execution_count": 30,
   "id": "050fd53d",
   "metadata": {},
   "outputs": [
    {
     "name": "stdout",
     "output_type": "stream",
     "text": [
      "<class 'pandas.core.frame.DataFrame'>\n",
      "RangeIndex: 2705 entries, 0 to 2704\n",
      "Data columns (total 3 columns):\n",
      " #   Column                           Non-Null Count  Dtype \n",
      "---  ------                           --------------  ----- \n",
      " 0   Entity                           2705 non-null   object\n",
      " 1   Year                             2705 non-null   int64 \n",
      " 2   $2.15 a day - Number in poverty  2705 non-null   int64 \n",
      "dtypes: int64(2), object(1)\n",
      "memory usage: 63.5+ KB\n"
     ]
    }
   ],
   "source": [
    "poverty.info()\n",
    "\n",
    "# providing consise summary for the dataframe"
   ]
  },
  {
   "cell_type": "code",
   "execution_count": 31,
   "id": "ba5bbe1c",
   "metadata": {},
   "outputs": [],
   "source": [
    "poverty['Year'] = pd.to_datetime(poverty['Year'], format='%Y')\n",
    "# Convert the 'Year' column to datetime"
   ]
  },
  {
   "cell_type": "code",
   "execution_count": 32,
   "id": "4cd8f08d",
   "metadata": {},
   "outputs": [
    {
     "name": "stdout",
     "output_type": "stream",
     "text": [
      "Column: Entity, Data Type: object\n",
      "Column: Year, Data Type: datetime64[ns]\n",
      "Column: Inflation (annual %), Data Type: float64\n"
     ]
    }
   ],
   "source": [
    "for column, dtype in icp.dtypes.items():\n",
    "    print(f\"Column: {column}, Data Type: {dtype}\")\n",
    "    \n",
    "# confirming change in Datatype"
   ]
  },
  {
   "cell_type": "code",
   "execution_count": 33,
   "id": "14bd3105",
   "metadata": {},
   "outputs": [],
   "source": [
    "african_countries = [\n",
    "    \"Algeria\", \"Angola\", \"Benin\", \"Botswana\", \"Burkina Faso\", \"Burundi\", \n",
    "    \"Cabo Verde\", \"Cameroon\", \"Central African Republic\", \"Chad\", \"Comoros\", \n",
    "    \"Congo\", \"Djibouti\", \"Egypt\", \"Equatorial Guinea\", \"Eritrea\", \n",
    "    \"Eswatini\", \"Ethiopia\", \"Gabon\", \"Gambia\", \"Ghana\", \"Guinea\", \n",
    "    \"Guinea-Bissau\", \"Ivory Coast\", \"Kenya\", \"Lesotho\", \"Liberia\", \n",
    "    \"Libya\", \"Madagascar\", \"Malawi\", \"Mali\", \"Mauritania\", \"Mauritius\", \n",
    "    \"Morocco\", \"Mozambique\", \"Namibia\", \"Niger\", \"Nigeria\", \"Rwanda\", \n",
    "    \"Sao Tome and Principe\", \"Senegal\", \"Seychelles\", \"Sierra Leone\", \n",
    "    \"Somalia\", \"South Africa\", \"South Sudan\", \"Sudan\", \"Tanzania\", \n",
    "    \"Togo\", \"Tunisia\", \"Uganda\", \"Zambia\", \"Zimbabwe\"\n",
    "]\n",
    "\n",
    "# create list of african countries"
   ]
  },
  {
   "cell_type": "code",
   "execution_count": 34,
   "id": "54e495bd",
   "metadata": {},
   "outputs": [],
   "source": [
    "col_af = col[col['Country'].isin(african_countries)]\n",
    "cpi_af = cpi[cpi['Entity'].isin(african_countries)]\n",
    "icp_af = icp[icp['Entity'].isin(african_countries)]\n",
    "gdp_af = gdp[gdp['Entity'].isin(african_countries)]\n",
    "unemployment_af = unemployment[unemployment['Entity'].isin(african_countries)]\n",
    "poverty_af = poverty[poverty['Entity'].isin(african_countries)]\n",
    "\n",
    "# Filtering each dataset for African Countries only"
   ]
  },
  {
   "cell_type": "code",
   "execution_count": 35,
   "id": "c990afb2",
   "metadata": {},
   "outputs": [
    {
     "data": {
      "text/plain": [
       "array(['Cameroon', 'Zimbabwe', 'Mauritius', 'South Africa', 'Nigeria',\n",
       "       'Ghana', 'Kenya', 'Botswana', 'Morocco', 'Uganda', 'Algeria',\n",
       "       'Tunisia', 'Madagascar', 'Tanzania', 'Egypt', 'Libya'],\n",
       "      dtype=object)"
      ]
     },
     "execution_count": 35,
     "metadata": {},
     "output_type": "execute_result"
    }
   ],
   "source": [
    "col_af['Country'].unique()\n",
    "\n",
    "# verifying filtering"
   ]
  },
  {
   "cell_type": "code",
   "execution_count": 36,
   "id": "52bde68d",
   "metadata": {},
   "outputs": [
    {
     "data": {
      "text/plain": [
       "array(['Algeria', 'Angola', 'Benin', 'Botswana', 'Burkina Faso',\n",
       "       'Burundi', 'Cameroon', 'Central African Republic', 'Chad',\n",
       "       'Comoros', 'Congo', 'Djibouti', 'Egypt', 'Equatorial Guinea',\n",
       "       'Eswatini', 'Ethiopia', 'Gabon', 'Gambia', 'Ghana', 'Guinea',\n",
       "       'Guinea-Bissau', 'Kenya', 'Lesotho', 'Liberia', 'Libya',\n",
       "       'Madagascar', 'Malawi', 'Mali', 'Mauritania', 'Mauritius',\n",
       "       'Morocco', 'Mozambique', 'Namibia', 'Niger', 'Nigeria', 'Rwanda',\n",
       "       'Sao Tome and Principe', 'Senegal', 'Seychelles', 'Sierra Leone',\n",
       "       'South Africa', 'South Sudan', 'Sudan', 'Tanzania', 'Togo',\n",
       "       'Tunisia', 'Uganda', 'Zambia', 'Zimbabwe'], dtype=object)"
      ]
     },
     "execution_count": 36,
     "metadata": {},
     "output_type": "execute_result"
    }
   ],
   "source": [
    "cpi_af['Entity'].unique()\n",
    "\n",
    "# verifying filtering"
   ]
  },
  {
   "cell_type": "code",
   "execution_count": 37,
   "id": "ba1d86d0",
   "metadata": {},
   "outputs": [
    {
     "data": {
      "text/plain": [
       "array(['Algeria', 'Angola', 'Benin', 'Botswana', 'Burkina Faso',\n",
       "       'Burundi', 'Cameroon', 'Central African Republic', 'Chad',\n",
       "       'Comoros', 'Congo', 'Djibouti', 'Egypt', 'Equatorial Guinea',\n",
       "       'Eswatini', 'Ethiopia', 'Gabon', 'Gambia', 'Ghana', 'Guinea',\n",
       "       'Guinea-Bissau', 'Kenya', 'Lesotho', 'Liberia', 'Libya',\n",
       "       'Madagascar', 'Malawi', 'Mali', 'Mauritania', 'Mauritius',\n",
       "       'Morocco', 'Mozambique', 'Namibia', 'Niger', 'Nigeria', 'Rwanda',\n",
       "       'Sao Tome and Principe', 'Senegal', 'Seychelles', 'Sierra Leone',\n",
       "       'South Africa', 'South Sudan', 'Sudan', 'Tanzania', 'Togo',\n",
       "       'Tunisia', 'Uganda', 'Zambia', 'Zimbabwe'], dtype=object)"
      ]
     },
     "execution_count": 37,
     "metadata": {},
     "output_type": "execute_result"
    }
   ],
   "source": [
    "icp_af['Entity'].unique()\n",
    "\n",
    "# verifying filtering"
   ]
  },
  {
   "cell_type": "code",
   "execution_count": 38,
   "id": "b26e95a4",
   "metadata": {},
   "outputs": [
    {
     "data": {
      "text/plain": [
       "array(['Algeria', 'Angola', 'Benin', 'Botswana', 'Burkina Faso',\n",
       "       'Burundi', 'Cameroon', 'Central African Republic', 'Chad',\n",
       "       'Comoros', 'Congo', 'Djibouti', 'Egypt', 'Equatorial Guinea',\n",
       "       'Eswatini', 'Ethiopia', 'Gabon', 'Gambia', 'Ghana', 'Guinea',\n",
       "       'Guinea-Bissau', 'Kenya', 'Lesotho', 'Liberia', 'Libya',\n",
       "       'Madagascar', 'Malawi', 'Mali', 'Mauritania', 'Mauritius',\n",
       "       'Morocco', 'Mozambique', 'Namibia', 'Niger', 'Nigeria', 'Rwanda',\n",
       "       'Sao Tome and Principe', 'Senegal', 'Seychelles', 'Sierra Leone',\n",
       "       'Somalia', 'South Africa', 'Sudan', 'Tanzania', 'Togo', 'Tunisia',\n",
       "       'Uganda', 'Zambia', 'Zimbabwe'], dtype=object)"
      ]
     },
     "execution_count": 38,
     "metadata": {},
     "output_type": "execute_result"
    }
   ],
   "source": [
    "gdp_af['Entity'].unique()\n",
    "\n",
    "# verifying filtering"
   ]
  },
  {
   "cell_type": "code",
   "execution_count": 39,
   "id": "23eed0fb",
   "metadata": {},
   "outputs": [
    {
     "data": {
      "text/plain": [
       "array(['Algeria', 'Angola', 'Benin', 'Botswana', 'Burkina Faso',\n",
       "       'Burundi', 'Cameroon', 'Central African Republic', 'Chad',\n",
       "       'Comoros', 'Congo', 'Djibouti', 'Egypt', 'Equatorial Guinea',\n",
       "       'Eritrea', 'Eswatini', 'Ethiopia', 'Gabon', 'Gambia', 'Ghana',\n",
       "       'Guinea', 'Guinea-Bissau', 'Kenya', 'Lesotho', 'Liberia', 'Libya',\n",
       "       'Madagascar', 'Malawi', 'Mali', 'Mauritania', 'Mauritius',\n",
       "       'Morocco', 'Mozambique', 'Namibia', 'Niger', 'Nigeria', 'Rwanda',\n",
       "       'Sao Tome and Principe', 'Senegal', 'Sierra Leone', 'Somalia',\n",
       "       'South Africa', 'South Sudan', 'Sudan', 'Tanzania', 'Togo',\n",
       "       'Tunisia', 'Uganda', 'Zambia', 'Zimbabwe'], dtype=object)"
      ]
     },
     "execution_count": 39,
     "metadata": {},
     "output_type": "execute_result"
    }
   ],
   "source": [
    "unemployment_af['Entity'].unique()\n",
    "\n",
    "# verifying filtering"
   ]
  },
  {
   "cell_type": "code",
   "execution_count": 40,
   "id": "333477c5",
   "metadata": {},
   "outputs": [
    {
     "data": {
      "text/plain": [
       "array(['Algeria', 'Angola', 'Benin', 'Botswana', 'Burkina Faso',\n",
       "       'Burundi', 'Cameroon', 'Central African Republic', 'Chad',\n",
       "       'Comoros', 'Congo', 'Djibouti', 'Egypt', 'Eswatini', 'Ethiopia',\n",
       "       'Gabon', 'Gambia', 'Ghana', 'Guinea', 'Guinea-Bissau', 'Kenya',\n",
       "       'Lesotho', 'Liberia', 'Madagascar', 'Malawi', 'Mali', 'Mauritania',\n",
       "       'Mauritius', 'Morocco', 'Mozambique', 'Namibia', 'Niger',\n",
       "       'Nigeria', 'Rwanda', 'Sao Tome and Principe', 'Senegal',\n",
       "       'Seychelles', 'Sierra Leone', 'South Africa', 'South Sudan',\n",
       "       'Sudan', 'Tanzania', 'Togo', 'Tunisia', 'Uganda', 'Zambia',\n",
       "       'Zimbabwe'], dtype=object)"
      ]
     },
     "execution_count": 40,
     "metadata": {},
     "output_type": "execute_result"
    }
   ],
   "source": [
    "poverty_af['Entity'].unique()\n",
    "\n",
    "# verifying filtering"
   ]
  },
  {
   "cell_type": "markdown",
   "id": "94aa2569",
   "metadata": {},
   "source": [
    "# 1. Analyzing the Relationship Between Rising Costs of Living and Inflation"
   ]
  },
  {
   "cell_type": "code",
   "execution_count": 41,
   "id": "53dd08d0",
   "metadata": {},
   "outputs": [
    {
     "name": "stderr",
     "output_type": "stream",
     "text": [
      "C:\\Users\\ODOSA\\anaconda3\\lib\\site-packages\\pandas\\core\\frame.py:5039: SettingWithCopyWarning: \n",
      "A value is trying to be set on a copy of a slice from a DataFrame\n",
      "\n",
      "See the caveats in the documentation: https://pandas.pydata.org/pandas-docs/stable/user_guide/indexing.html#returning-a-view-versus-a-copy\n",
      "  return super().rename(\n"
     ]
    }
   ],
   "source": [
    "col_af.rename(columns={'Country': 'Entity'}, inplace=True)\n",
    "\n",
    "# Rename country column to entity"
   ]
  },
  {
   "cell_type": "code",
   "execution_count": 42,
   "id": "aca887ef",
   "metadata": {},
   "outputs": [
    {
     "data": {
      "text/html": [
       "<div>\n",
       "<style scoped>\n",
       "    .dataframe tbody tr th:only-of-type {\n",
       "        vertical-align: middle;\n",
       "    }\n",
       "\n",
       "    .dataframe tbody tr th {\n",
       "        vertical-align: top;\n",
       "    }\n",
       "\n",
       "    .dataframe thead th {\n",
       "        text-align: right;\n",
       "    }\n",
       "</style>\n",
       "<table border=\"1\" class=\"dataframe\">\n",
       "  <thead>\n",
       "    <tr style=\"text-align: right;\">\n",
       "      <th></th>\n",
       "      <th>Entity</th>\n",
       "      <th>Cost of Living Index</th>\n",
       "      <th>Rent Index</th>\n",
       "      <th>Cost of Living Plus Rent Index</th>\n",
       "      <th>Groceries Index</th>\n",
       "      <th>Restaurant Price Index</th>\n",
       "      <th>Local Purchasing Power Index</th>\n",
       "    </tr>\n",
       "  </thead>\n",
       "  <tbody>\n",
       "    <tr>\n",
       "      <th>71</th>\n",
       "      <td>Cameroon</td>\n",
       "      <td>37.3</td>\n",
       "      <td>16.9</td>\n",
       "      <td>27.5</td>\n",
       "      <td>34.6</td>\n",
       "      <td>35.3</td>\n",
       "      <td>10.5</td>\n",
       "    </tr>\n",
       "    <tr>\n",
       "      <th>72</th>\n",
       "      <td>Zimbabwe</td>\n",
       "      <td>37.2</td>\n",
       "      <td>10.0</td>\n",
       "      <td>24.1</td>\n",
       "      <td>35.5</td>\n",
       "      <td>26.7</td>\n",
       "      <td>26.1</td>\n",
       "    </tr>\n",
       "    <tr>\n",
       "      <th>73</th>\n",
       "      <td>Mauritius</td>\n",
       "      <td>37.1</td>\n",
       "      <td>10.0</td>\n",
       "      <td>24.1</td>\n",
       "      <td>40.7</td>\n",
       "      <td>26.5</td>\n",
       "      <td>43.2</td>\n",
       "    </tr>\n",
       "    <tr>\n",
       "      <th>77</th>\n",
       "      <td>South Africa</td>\n",
       "      <td>34.5</td>\n",
       "      <td>11.5</td>\n",
       "      <td>23.5</td>\n",
       "      <td>29.7</td>\n",
       "      <td>29.5</td>\n",
       "      <td>102.8</td>\n",
       "    </tr>\n",
       "    <tr>\n",
       "      <th>85</th>\n",
       "      <td>Nigeria</td>\n",
       "      <td>31.4</td>\n",
       "      <td>22.1</td>\n",
       "      <td>27.0</td>\n",
       "      <td>37.5</td>\n",
       "      <td>20.6</td>\n",
       "      <td>11.0</td>\n",
       "    </tr>\n",
       "  </tbody>\n",
       "</table>\n",
       "</div>"
      ],
      "text/plain": [
       "          Entity  Cost of Living Index  Rent Index  \\\n",
       "71      Cameroon                  37.3        16.9   \n",
       "72      Zimbabwe                  37.2        10.0   \n",
       "73     Mauritius                  37.1        10.0   \n",
       "77  South Africa                  34.5        11.5   \n",
       "85       Nigeria                  31.4        22.1   \n",
       "\n",
       "    Cost of Living Plus Rent Index  Groceries Index  Restaurant Price Index  \\\n",
       "71                            27.5             34.6                    35.3   \n",
       "72                            24.1             35.5                    26.7   \n",
       "73                            24.1             40.7                    26.5   \n",
       "77                            23.5             29.7                    29.5   \n",
       "85                            27.0             37.5                    20.6   \n",
       "\n",
       "    Local Purchasing Power Index  \n",
       "71                          10.5  \n",
       "72                          26.1  \n",
       "73                          43.2  \n",
       "77                         102.8  \n",
       "85                          11.0  "
      ]
     },
     "execution_count": 42,
     "metadata": {},
     "output_type": "execute_result"
    }
   ],
   "source": [
    "col_af.head()\n",
    "\n",
    "# Check"
   ]
  },
  {
   "cell_type": "code",
   "execution_count": 59,
   "id": "ffc91230",
   "metadata": {},
   "outputs": [
    {
     "data": {
      "text/html": [
       "<div>\n",
       "<style scoped>\n",
       "    .dataframe tbody tr th:only-of-type {\n",
       "        vertical-align: middle;\n",
       "    }\n",
       "\n",
       "    .dataframe tbody tr th {\n",
       "        vertical-align: top;\n",
       "    }\n",
       "\n",
       "    .dataframe thead th {\n",
       "        text-align: right;\n",
       "    }\n",
       "</style>\n",
       "<table border=\"1\" class=\"dataframe\">\n",
       "  <thead>\n",
       "    <tr style=\"text-align: right;\">\n",
       "      <th></th>\n",
       "      <th>Entity</th>\n",
       "      <th>Cost of Living Index</th>\n",
       "      <th>Rent Index</th>\n",
       "      <th>Cost of Living Plus Rent Index</th>\n",
       "      <th>Groceries Index</th>\n",
       "      <th>Restaurant Price Index</th>\n",
       "      <th>Local Purchasing Power Index</th>\n",
       "      <th>Year</th>\n",
       "      <th>Inflation (annual %)</th>\n",
       "    </tr>\n",
       "  </thead>\n",
       "  <tbody>\n",
       "    <tr>\n",
       "      <th>0</th>\n",
       "      <td>Cameroon</td>\n",
       "      <td>37.3</td>\n",
       "      <td>16.9</td>\n",
       "      <td>27.5</td>\n",
       "      <td>34.6</td>\n",
       "      <td>35.3</td>\n",
       "      <td>10.5</td>\n",
       "      <td>2010-01-01</td>\n",
       "      <td>-1.101591</td>\n",
       "    </tr>\n",
       "    <tr>\n",
       "      <th>1</th>\n",
       "      <td>Cameroon</td>\n",
       "      <td>37.3</td>\n",
       "      <td>16.9</td>\n",
       "      <td>27.5</td>\n",
       "      <td>34.6</td>\n",
       "      <td>35.3</td>\n",
       "      <td>10.5</td>\n",
       "      <td>2011-01-01</td>\n",
       "      <td>5.858086</td>\n",
       "    </tr>\n",
       "    <tr>\n",
       "      <th>2</th>\n",
       "      <td>Cameroon</td>\n",
       "      <td>37.3</td>\n",
       "      <td>16.9</td>\n",
       "      <td>27.5</td>\n",
       "      <td>34.6</td>\n",
       "      <td>35.3</td>\n",
       "      <td>10.5</td>\n",
       "      <td>2012-01-01</td>\n",
       "      <td>4.014030</td>\n",
       "    </tr>\n",
       "    <tr>\n",
       "      <th>3</th>\n",
       "      <td>Cameroon</td>\n",
       "      <td>37.3</td>\n",
       "      <td>16.9</td>\n",
       "      <td>27.5</td>\n",
       "      <td>34.6</td>\n",
       "      <td>35.3</td>\n",
       "      <td>10.5</td>\n",
       "      <td>2013-01-01</td>\n",
       "      <td>8.092918</td>\n",
       "    </tr>\n",
       "    <tr>\n",
       "      <th>4</th>\n",
       "      <td>Cameroon</td>\n",
       "      <td>37.3</td>\n",
       "      <td>16.9</td>\n",
       "      <td>27.5</td>\n",
       "      <td>34.6</td>\n",
       "      <td>35.3</td>\n",
       "      <td>10.5</td>\n",
       "      <td>2014-01-01</td>\n",
       "      <td>10.384748</td>\n",
       "    </tr>\n",
       "    <tr>\n",
       "      <th>...</th>\n",
       "      <td>...</td>\n",
       "      <td>...</td>\n",
       "      <td>...</td>\n",
       "      <td>...</td>\n",
       "      <td>...</td>\n",
       "      <td>...</td>\n",
       "      <td>...</td>\n",
       "      <td>...</td>\n",
       "      <td>...</td>\n",
       "    </tr>\n",
       "    <tr>\n",
       "      <th>836</th>\n",
       "      <td>Libya</td>\n",
       "      <td>20.4</td>\n",
       "      <td>4.3</td>\n",
       "      <td>12.7</td>\n",
       "      <td>22.2</td>\n",
       "      <td>15.2</td>\n",
       "      <td>42.0</td>\n",
       "      <td>2020-01-01</td>\n",
       "      <td>13.170204</td>\n",
       "    </tr>\n",
       "    <tr>\n",
       "      <th>837</th>\n",
       "      <td>Libya</td>\n",
       "      <td>20.4</td>\n",
       "      <td>4.3</td>\n",
       "      <td>12.7</td>\n",
       "      <td>22.2</td>\n",
       "      <td>15.2</td>\n",
       "      <td>42.0</td>\n",
       "      <td>2021-01-01</td>\n",
       "      <td>-2.162179</td>\n",
       "    </tr>\n",
       "    <tr>\n",
       "      <th>838</th>\n",
       "      <td>Libya</td>\n",
       "      <td>20.4</td>\n",
       "      <td>4.3</td>\n",
       "      <td>12.7</td>\n",
       "      <td>22.2</td>\n",
       "      <td>15.2</td>\n",
       "      <td>42.0</td>\n",
       "      <td>2022-01-01</td>\n",
       "      <td>1.447037</td>\n",
       "    </tr>\n",
       "    <tr>\n",
       "      <th>839</th>\n",
       "      <td>Libya</td>\n",
       "      <td>20.4</td>\n",
       "      <td>4.3</td>\n",
       "      <td>12.7</td>\n",
       "      <td>22.2</td>\n",
       "      <td>15.2</td>\n",
       "      <td>42.0</td>\n",
       "      <td>1990-01-01</td>\n",
       "      <td>2.868330</td>\n",
       "    </tr>\n",
       "    <tr>\n",
       "      <th>840</th>\n",
       "      <td>Libya</td>\n",
       "      <td>20.4</td>\n",
       "      <td>4.3</td>\n",
       "      <td>12.7</td>\n",
       "      <td>22.2</td>\n",
       "      <td>15.2</td>\n",
       "      <td>42.0</td>\n",
       "      <td>1991-01-01</td>\n",
       "      <td>4.510302</td>\n",
       "    </tr>\n",
       "  </tbody>\n",
       "</table>\n",
       "<p>841 rows × 9 columns</p>\n",
       "</div>"
      ],
      "text/plain": [
       "       Entity  Cost of Living Index  Rent Index  \\\n",
       "0    Cameroon                  37.3        16.9   \n",
       "1    Cameroon                  37.3        16.9   \n",
       "2    Cameroon                  37.3        16.9   \n",
       "3    Cameroon                  37.3        16.9   \n",
       "4    Cameroon                  37.3        16.9   \n",
       "..        ...                   ...         ...   \n",
       "836     Libya                  20.4         4.3   \n",
       "837     Libya                  20.4         4.3   \n",
       "838     Libya                  20.4         4.3   \n",
       "839     Libya                  20.4         4.3   \n",
       "840     Libya                  20.4         4.3   \n",
       "\n",
       "     Cost of Living Plus Rent Index  Groceries Index  Restaurant Price Index  \\\n",
       "0                              27.5             34.6                    35.3   \n",
       "1                              27.5             34.6                    35.3   \n",
       "2                              27.5             34.6                    35.3   \n",
       "3                              27.5             34.6                    35.3   \n",
       "4                              27.5             34.6                    35.3   \n",
       "..                              ...              ...                     ...   \n",
       "836                            12.7             22.2                    15.2   \n",
       "837                            12.7             22.2                    15.2   \n",
       "838                            12.7             22.2                    15.2   \n",
       "839                            12.7             22.2                    15.2   \n",
       "840                            12.7             22.2                    15.2   \n",
       "\n",
       "     Local Purchasing Power Index       Year  Inflation (annual %)  \n",
       "0                            10.5 2010-01-01             -1.101591  \n",
       "1                            10.5 2011-01-01              5.858086  \n",
       "2                            10.5 2012-01-01              4.014030  \n",
       "3                            10.5 2013-01-01              8.092918  \n",
       "4                            10.5 2014-01-01             10.384748  \n",
       "..                            ...        ...                   ...  \n",
       "836                          42.0 2020-01-01             13.170204  \n",
       "837                          42.0 2021-01-01             -2.162179  \n",
       "838                          42.0 2022-01-01              1.447037  \n",
       "839                          42.0 1990-01-01              2.868330  \n",
       "840                          42.0 1991-01-01              4.510302  \n",
       "\n",
       "[841 rows x 9 columns]"
      ]
     },
     "execution_count": 59,
     "metadata": {},
     "output_type": "execute_result"
    }
   ],
   "source": [
    "cost_inflation = pd.merge(col_af, icp_af, on='Entity', how='inner')\n",
    "cost_inflation\n",
    "\n",
    "# merging data"
   ]
  },
  {
   "cell_type": "code",
   "execution_count": 60,
   "id": "12de4d85",
   "metadata": {},
   "outputs": [
    {
     "data": {
      "text/plain": [
       "array(['Cameroon', 'Zimbabwe', 'Mauritius', 'South Africa', 'Nigeria',\n",
       "       'Ghana', 'Kenya', 'Botswana', 'Morocco', 'Uganda', 'Algeria',\n",
       "       'Tunisia', 'Madagascar', 'Tanzania', 'Egypt', 'Libya'],\n",
       "      dtype=object)"
      ]
     },
     "execution_count": 60,
     "metadata": {},
     "output_type": "execute_result"
    }
   ],
   "source": [
    "cost_inflation[\"Entity\"].unique()\n",
    "\n",
    "# getting unoque values in the \"Entity\" column"
   ]
  },
  {
   "cell_type": "code",
   "execution_count": 61,
   "id": "07166d74",
   "metadata": {},
   "outputs": [
    {
     "data": {
      "text/plain": [
       "Entity                              0\n",
       "Cost of Living Index                0\n",
       "Rent Index                          0\n",
       "Cost of Living Plus Rent Index      0\n",
       "Groceries Index                     0\n",
       "Restaurant Price Index              0\n",
       "Local Purchasing Power Index        0\n",
       "Year                              201\n",
       "Inflation (annual %)                0\n",
       "dtype: int64"
      ]
     },
     "execution_count": 61,
     "metadata": {},
     "output_type": "execute_result"
    }
   ],
   "source": [
    "cost_inflation.isna().sum()\n",
    "\n",
    "# getting the sum of the null values in each column"
   ]
  },
  {
   "cell_type": "code",
   "execution_count": 62,
   "id": "ba585ce5",
   "metadata": {},
   "outputs": [],
   "source": [
    "cost_inflation.dropna(inplace=True)\n",
    "\n",
    "# dropping all null values"
   ]
  },
  {
   "cell_type": "code",
   "execution_count": 63,
   "id": "86ab2033",
   "metadata": {},
   "outputs": [
    {
     "data": {
      "text/plain": [
       "Entity                            False\n",
       "Cost of Living Index              False\n",
       "Rent Index                        False\n",
       "Cost of Living Plus Rent Index    False\n",
       "Groceries Index                   False\n",
       "Restaurant Price Index            False\n",
       "Local Purchasing Power Index      False\n",
       "Year                              False\n",
       "Inflation (annual %)              False\n",
       "dtype: bool"
      ]
     },
     "execution_count": 63,
     "metadata": {},
     "output_type": "execute_result"
    }
   ],
   "source": [
    "cost_inflation.isna().any()\n",
    "\n",
    "# verifying drop"
   ]
  },
  {
   "cell_type": "code",
   "execution_count": 64,
   "id": "612061cf",
   "metadata": {},
   "outputs": [
    {
     "data": {
      "text/html": [
       "<div>\n",
       "<style scoped>\n",
       "    .dataframe tbody tr th:only-of-type {\n",
       "        vertical-align: middle;\n",
       "    }\n",
       "\n",
       "    .dataframe tbody tr th {\n",
       "        vertical-align: top;\n",
       "    }\n",
       "\n",
       "    .dataframe thead th {\n",
       "        text-align: right;\n",
       "    }\n",
       "</style>\n",
       "<table border=\"1\" class=\"dataframe\">\n",
       "  <thead>\n",
       "    <tr style=\"text-align: right;\">\n",
       "      <th></th>\n",
       "      <th>Cost of Living Index</th>\n",
       "      <th>Rent Index</th>\n",
       "      <th>Cost of Living Plus Rent Index</th>\n",
       "      <th>Groceries Index</th>\n",
       "      <th>Restaurant Price Index</th>\n",
       "      <th>Local Purchasing Power Index</th>\n",
       "      <th>Inflation (annual %)</th>\n",
       "    </tr>\n",
       "  </thead>\n",
       "  <tbody>\n",
       "    <tr>\n",
       "      <th>count</th>\n",
       "      <td>640.000000</td>\n",
       "      <td>640.000000</td>\n",
       "      <td>640.000000</td>\n",
       "      <td>640.000000</td>\n",
       "      <td>640.000000</td>\n",
       "      <td>640.000000</td>\n",
       "      <td>640.000000</td>\n",
       "    </tr>\n",
       "    <tr>\n",
       "      <th>mean</th>\n",
       "      <td>29.122344</td>\n",
       "      <td>9.245781</td>\n",
       "      <td>19.595938</td>\n",
       "      <td>31.000312</td>\n",
       "      <td>21.215156</td>\n",
       "      <td>29.279844</td>\n",
       "      <td>10.413399</td>\n",
       "    </tr>\n",
       "    <tr>\n",
       "      <th>std</th>\n",
       "      <td>5.280103</td>\n",
       "      <td>5.514764</td>\n",
       "      <td>4.832802</td>\n",
       "      <td>6.207893</td>\n",
       "      <td>6.079778</td>\n",
       "      <td>15.335615</td>\n",
       "      <td>12.670080</td>\n",
       "    </tr>\n",
       "    <tr>\n",
       "      <th>min</th>\n",
       "      <td>20.400000</td>\n",
       "      <td>3.700000</td>\n",
       "      <td>12.700000</td>\n",
       "      <td>21.200000</td>\n",
       "      <td>14.000000</td>\n",
       "      <td>10.500000</td>\n",
       "      <td>-9.797647</td>\n",
       "    </tr>\n",
       "    <tr>\n",
       "      <th>25%</th>\n",
       "      <td>24.500000</td>\n",
       "      <td>4.300000</td>\n",
       "      <td>16.500000</td>\n",
       "      <td>24.100000</td>\n",
       "      <td>15.200000</td>\n",
       "      <td>15.600000</td>\n",
       "      <td>3.636863</td>\n",
       "    </tr>\n",
       "    <tr>\n",
       "      <th>50%</th>\n",
       "      <td>30.100000</td>\n",
       "      <td>7.800000</td>\n",
       "      <td>18.900000</td>\n",
       "      <td>31.000000</td>\n",
       "      <td>20.700000</td>\n",
       "      <td>29.900000</td>\n",
       "      <td>7.982759</td>\n",
       "    </tr>\n",
       "    <tr>\n",
       "      <th>75%</th>\n",
       "      <td>31.400000</td>\n",
       "      <td>10.200000</td>\n",
       "      <td>24.100000</td>\n",
       "      <td>36.800000</td>\n",
       "      <td>26.500000</td>\n",
       "      <td>42.000000</td>\n",
       "      <td>12.390834</td>\n",
       "    </tr>\n",
       "    <tr>\n",
       "      <th>max</th>\n",
       "      <td>37.300000</td>\n",
       "      <td>22.100000</td>\n",
       "      <td>27.500000</td>\n",
       "      <td>40.700000</td>\n",
       "      <td>35.300000</td>\n",
       "      <td>64.400000</td>\n",
       "      <td>122.874510</td>\n",
       "    </tr>\n",
       "  </tbody>\n",
       "</table>\n",
       "</div>"
      ],
      "text/plain": [
       "       Cost of Living Index  Rent Index  Cost of Living Plus Rent Index  \\\n",
       "count            640.000000  640.000000                      640.000000   \n",
       "mean              29.122344    9.245781                       19.595938   \n",
       "std                5.280103    5.514764                        4.832802   \n",
       "min               20.400000    3.700000                       12.700000   \n",
       "25%               24.500000    4.300000                       16.500000   \n",
       "50%               30.100000    7.800000                       18.900000   \n",
       "75%               31.400000   10.200000                       24.100000   \n",
       "max               37.300000   22.100000                       27.500000   \n",
       "\n",
       "       Groceries Index  Restaurant Price Index  Local Purchasing Power Index  \\\n",
       "count       640.000000              640.000000                    640.000000   \n",
       "mean         31.000312               21.215156                     29.279844   \n",
       "std           6.207893                6.079778                     15.335615   \n",
       "min          21.200000               14.000000                     10.500000   \n",
       "25%          24.100000               15.200000                     15.600000   \n",
       "50%          31.000000               20.700000                     29.900000   \n",
       "75%          36.800000               26.500000                     42.000000   \n",
       "max          40.700000               35.300000                     64.400000   \n",
       "\n",
       "       Inflation (annual %)  \n",
       "count            640.000000  \n",
       "mean              10.413399  \n",
       "std               12.670080  \n",
       "min               -9.797647  \n",
       "25%                3.636863  \n",
       "50%                7.982759  \n",
       "75%               12.390834  \n",
       "max              122.874510  "
      ]
     },
     "execution_count": 64,
     "metadata": {},
     "output_type": "execute_result"
    }
   ],
   "source": [
    "cost_inflation.describe()\n",
    "\n",
    "# Descriptive statistics for numeric columns"
   ]
  },
  {
   "cell_type": "code",
   "execution_count": 73,
   "id": "f9f0a62f",
   "metadata": {},
   "outputs": [],
   "source": [
    "cost_inflation.to_csv(r\"cost_inflation.csv\", index=False)\n",
    "\n",
    "# exporting merged data to my file directory"
   ]
  },
  {
   "cell_type": "code",
   "execution_count": 66,
   "id": "4a07cdab",
   "metadata": {},
   "outputs": [
    {
     "data": {
      "text/html": [
       "<div>\n",
       "<style scoped>\n",
       "    .dataframe tbody tr th:only-of-type {\n",
       "        vertical-align: middle;\n",
       "    }\n",
       "\n",
       "    .dataframe tbody tr th {\n",
       "        vertical-align: top;\n",
       "    }\n",
       "\n",
       "    .dataframe thead th {\n",
       "        text-align: right;\n",
       "    }\n",
       "</style>\n",
       "<table border=\"1\" class=\"dataframe\">\n",
       "  <thead>\n",
       "    <tr style=\"text-align: right;\">\n",
       "      <th></th>\n",
       "      <th>Entity</th>\n",
       "      <th>Year</th>\n",
       "      <th>Consumer price index</th>\n",
       "      <th>GDP per capita</th>\n",
       "    </tr>\n",
       "  </thead>\n",
       "  <tbody>\n",
       "    <tr>\n",
       "      <th>0</th>\n",
       "      <td>Algeria</td>\n",
       "      <td>1990-01-01</td>\n",
       "      <td>15.52</td>\n",
       "      <td>8828.87</td>\n",
       "    </tr>\n",
       "    <tr>\n",
       "      <th>1</th>\n",
       "      <td>Algeria</td>\n",
       "      <td>1991-01-01</td>\n",
       "      <td>19.54</td>\n",
       "      <td>8517.38</td>\n",
       "    </tr>\n",
       "    <tr>\n",
       "      <th>2</th>\n",
       "      <td>Algeria</td>\n",
       "      <td>1992-01-01</td>\n",
       "      <td>25.72</td>\n",
       "      <td>8471.53</td>\n",
       "    </tr>\n",
       "    <tr>\n",
       "      <th>3</th>\n",
       "      <td>Algeria</td>\n",
       "      <td>1993-01-01</td>\n",
       "      <td>31.01</td>\n",
       "      <td>8109.88</td>\n",
       "    </tr>\n",
       "    <tr>\n",
       "      <th>4</th>\n",
       "      <td>Algeria</td>\n",
       "      <td>1994-01-01</td>\n",
       "      <td>40.01</td>\n",
       "      <td>7869.27</td>\n",
       "    </tr>\n",
       "    <tr>\n",
       "      <th>...</th>\n",
       "      <td>...</td>\n",
       "      <td>...</td>\n",
       "      <td>...</td>\n",
       "      <td>...</td>\n",
       "    </tr>\n",
       "    <tr>\n",
       "      <th>1412</th>\n",
       "      <td>Zimbabwe</td>\n",
       "      <td>2018-01-01</td>\n",
       "      <td>116.71</td>\n",
       "      <td>2399.62</td>\n",
       "    </tr>\n",
       "    <tr>\n",
       "      <th>1413</th>\n",
       "      <td>Zimbabwe</td>\n",
       "      <td>2019-01-01</td>\n",
       "      <td>414.68</td>\n",
       "      <td>2203.40</td>\n",
       "    </tr>\n",
       "    <tr>\n",
       "      <th>1414</th>\n",
       "      <td>Zimbabwe</td>\n",
       "      <td>2020-01-01</td>\n",
       "      <td>2725.31</td>\n",
       "      <td>1990.32</td>\n",
       "    </tr>\n",
       "    <tr>\n",
       "      <th>1415</th>\n",
       "      <td>Zimbabwe</td>\n",
       "      <td>2021-01-01</td>\n",
       "      <td>5411.00</td>\n",
       "      <td>2115.14</td>\n",
       "    </tr>\n",
       "    <tr>\n",
       "      <th>1416</th>\n",
       "      <td>Zimbabwe</td>\n",
       "      <td>2022-01-01</td>\n",
       "      <td>11076.60</td>\n",
       "      <td>2207.96</td>\n",
       "    </tr>\n",
       "  </tbody>\n",
       "</table>\n",
       "<p>1417 rows × 4 columns</p>\n",
       "</div>"
      ],
      "text/plain": [
       "        Entity       Year  Consumer price index  GDP per capita\n",
       "0      Algeria 1990-01-01                 15.52         8828.87\n",
       "1      Algeria 1991-01-01                 19.54         8517.38\n",
       "2      Algeria 1992-01-01                 25.72         8471.53\n",
       "3      Algeria 1993-01-01                 31.01         8109.88\n",
       "4      Algeria 1994-01-01                 40.01         7869.27\n",
       "...        ...        ...                   ...             ...\n",
       "1412  Zimbabwe 2018-01-01                116.71         2399.62\n",
       "1413  Zimbabwe 2019-01-01                414.68         2203.40\n",
       "1414  Zimbabwe 2020-01-01               2725.31         1990.32\n",
       "1415  Zimbabwe 2021-01-01               5411.00         2115.14\n",
       "1416  Zimbabwe 2022-01-01              11076.60         2207.96\n",
       "\n",
       "[1417 rows x 4 columns]"
      ]
     },
     "execution_count": 66,
     "metadata": {},
     "output_type": "execute_result"
    }
   ],
   "source": [
    "gdp_consumer_price_index = pd.merge(cpi_af, gdp_af, on=['Entity', 'Year'], how='inner')\n",
    "\n",
    "gdp_consumer_price_index\n",
    "\n",
    "# merging data"
   ]
  },
  {
   "cell_type": "code",
   "execution_count": 67,
   "id": "4de9c675",
   "metadata": {},
   "outputs": [
    {
     "data": {
      "text/plain": [
       "Entity                  0\n",
       "Year                    0\n",
       "Consumer price index    0\n",
       "GDP per capita          0\n",
       "dtype: int64"
      ]
     },
     "execution_count": 67,
     "metadata": {},
     "output_type": "execute_result"
    }
   ],
   "source": [
    "gdp_consumer_price_index.isna().sum()\n",
    "\n",
    "# getting the sum of the null values in each column"
   ]
  },
  {
   "cell_type": "code",
   "execution_count": 72,
   "id": "62542d66",
   "metadata": {},
   "outputs": [],
   "source": [
    "gdp_consumer_price_index.to_csv(r\"gdp_consumer_price_index.csv\", index=False)\n",
    "\n",
    "# exporting merged data to my file directory"
   ]
  },
  {
   "cell_type": "markdown",
   "id": "deea6fc8",
   "metadata": {},
   "source": [
    "# 2. Assessing the impact of inflation on purchasing power and economic stability"
   ]
  },
  {
   "cell_type": "code",
   "execution_count": 49,
   "id": "e4a091de",
   "metadata": {},
   "outputs": [],
   "source": [
    "df = cpi_af.merge(gdp, on=['Entity', 'Year'])\n",
    "df = df.merge(icp_af, on=['Entity', 'Year'])\n",
    "df = df.merge(unemployment_af, on=['Entity', 'Year'])\n",
    "df = df.merge(poverty_af, on=['Entity', 'Year'])\n",
    "\n",
    "# Merging datasets"
   ]
  },
  {
   "cell_type": "code",
   "execution_count": 50,
   "id": "5c71c374",
   "metadata": {},
   "outputs": [
    {
     "data": {
      "text/html": [
       "<div>\n",
       "<style scoped>\n",
       "    .dataframe tbody tr th:only-of-type {\n",
       "        vertical-align: middle;\n",
       "    }\n",
       "\n",
       "    .dataframe tbody tr th {\n",
       "        vertical-align: top;\n",
       "    }\n",
       "\n",
       "    .dataframe thead th {\n",
       "        text-align: right;\n",
       "    }\n",
       "</style>\n",
       "<table border=\"1\" class=\"dataframe\">\n",
       "  <thead>\n",
       "    <tr style=\"text-align: right;\">\n",
       "      <th></th>\n",
       "      <th>Entity</th>\n",
       "      <th>Year</th>\n",
       "      <th>Consumer price index</th>\n",
       "      <th>GDP per capita</th>\n",
       "      <th>Inflation (annual %)</th>\n",
       "      <th>Unemployment, total (% of total labor force) (modeled ILO estimate)</th>\n",
       "      <th>$2.15 a day - Number in poverty</th>\n",
       "    </tr>\n",
       "  </thead>\n",
       "  <tbody>\n",
       "    <tr>\n",
       "      <th>0</th>\n",
       "      <td>Algeria</td>\n",
       "      <td>1995-01-01</td>\n",
       "      <td>51.93</td>\n",
       "      <td>8013.12</td>\n",
       "      <td>6.542510</td>\n",
       "      <td>31.840</td>\n",
       "      <td>1742570</td>\n",
       "    </tr>\n",
       "    <tr>\n",
       "      <th>1</th>\n",
       "      <td>Algeria</td>\n",
       "      <td>1995-01-01</td>\n",
       "      <td>51.93</td>\n",
       "      <td>8013.12</td>\n",
       "      <td>4.784447</td>\n",
       "      <td>31.840</td>\n",
       "      <td>1742570</td>\n",
       "    </tr>\n",
       "    <tr>\n",
       "      <th>2</th>\n",
       "      <td>Algeria</td>\n",
       "      <td>2011-01-01</td>\n",
       "      <td>104.52</td>\n",
       "      <td>11113.97</td>\n",
       "      <td>4.950162</td>\n",
       "      <td>9.960</td>\n",
       "      <td>0</td>\n",
       "    </tr>\n",
       "    <tr>\n",
       "      <th>3</th>\n",
       "      <td>Angola</td>\n",
       "      <td>2000-01-01</td>\n",
       "      <td>2.91</td>\n",
       "      <td>4728.37</td>\n",
       "      <td>25.754265</td>\n",
       "      <td>16.562</td>\n",
       "      <td>3526425</td>\n",
       "    </tr>\n",
       "    <tr>\n",
       "      <th>4</th>\n",
       "      <td>Angola</td>\n",
       "      <td>2008-01-01</td>\n",
       "      <td>76.81</td>\n",
       "      <td>7866.18</td>\n",
       "      <td>4145.106000</td>\n",
       "      <td>16.013</td>\n",
       "      <td>3224262</td>\n",
       "    </tr>\n",
       "  </tbody>\n",
       "</table>\n",
       "</div>"
      ],
      "text/plain": [
       "    Entity       Year  Consumer price index  GDP per capita  \\\n",
       "0  Algeria 1995-01-01                 51.93         8013.12   \n",
       "1  Algeria 1995-01-01                 51.93         8013.12   \n",
       "2  Algeria 2011-01-01                104.52        11113.97   \n",
       "3   Angola 2000-01-01                  2.91         4728.37   \n",
       "4   Angola 2008-01-01                 76.81         7866.18   \n",
       "\n",
       "   Inflation (annual %)  \\\n",
       "0              6.542510   \n",
       "1              4.784447   \n",
       "2              4.950162   \n",
       "3             25.754265   \n",
       "4           4145.106000   \n",
       "\n",
       "   Unemployment, total (% of total labor force) (modeled ILO estimate)  \\\n",
       "0                                             31.840                     \n",
       "1                                             31.840                     \n",
       "2                                              9.960                     \n",
       "3                                             16.562                     \n",
       "4                                             16.013                     \n",
       "\n",
       "   $2.15 a day - Number in poverty  \n",
       "0                          1742570  \n",
       "1                          1742570  \n",
       "2                                0  \n",
       "3                          3526425  \n",
       "4                          3224262  "
      ]
     },
     "execution_count": 50,
     "metadata": {},
     "output_type": "execute_result"
    }
   ],
   "source": [
    "df.head()\n",
    "\n",
    "# getting the first 5 rows of the dataset"
   ]
  },
  {
   "cell_type": "code",
   "execution_count": 51,
   "id": "9a527bb4",
   "metadata": {},
   "outputs": [
    {
     "data": {
      "text/plain": [
       "Entity                                                                 0\n",
       "Year                                                                   0\n",
       "Consumer price index                                                   0\n",
       "GDP per capita                                                         0\n",
       "Inflation (annual %)                                                   0\n",
       "Unemployment, total (% of total labor force) (modeled ILO estimate)    0\n",
       "$2.15 a day - Number in poverty                                        0\n",
       "dtype: int64"
      ]
     },
     "execution_count": 51,
     "metadata": {},
     "output_type": "execute_result"
    }
   ],
   "source": [
    "df.isna().sum()\n",
    "\n",
    "# gettin the sum of null values"
   ]
  },
  {
   "cell_type": "code",
   "execution_count": 52,
   "id": "75018022",
   "metadata": {},
   "outputs": [
    {
     "data": {
      "text/plain": [
       "array(['Algeria', 'Angola', 'Benin', 'Botswana', 'Burkina Faso',\n",
       "       'Burundi', 'Cameroon', 'Central African Republic', 'Chad', 'Congo',\n",
       "       'Djibouti', 'Egypt', 'Eswatini', 'Ethiopia', 'Gabon', 'Gambia',\n",
       "       'Ghana', 'Guinea', 'Guinea-Bissau', 'Kenya', 'Lesotho', 'Liberia',\n",
       "       'Madagascar', 'Malawi', 'Mali', 'Mauritania', 'Mauritius',\n",
       "       'Morocco', 'Mozambique', 'Namibia', 'Niger', 'Nigeria'],\n",
       "      dtype=object)"
      ]
     },
     "execution_count": 52,
     "metadata": {},
     "output_type": "execute_result"
    }
   ],
   "source": [
    "df[\"Entity\"].unique()\n",
    "\n",
    "# getting the unique values in the \"Entity\" columns"
   ]
  },
  {
   "cell_type": "code",
   "execution_count": 53,
   "id": "30f101c6",
   "metadata": {},
   "outputs": [
    {
     "data": {
      "text/html": [
       "<div>\n",
       "<style scoped>\n",
       "    .dataframe tbody tr th:only-of-type {\n",
       "        vertical-align: middle;\n",
       "    }\n",
       "\n",
       "    .dataframe tbody tr th {\n",
       "        vertical-align: top;\n",
       "    }\n",
       "\n",
       "    .dataframe thead th {\n",
       "        text-align: right;\n",
       "    }\n",
       "</style>\n",
       "<table border=\"1\" class=\"dataframe\">\n",
       "  <thead>\n",
       "    <tr style=\"text-align: right;\">\n",
       "      <th></th>\n",
       "      <th>Consumer price index</th>\n",
       "      <th>GDP per capita</th>\n",
       "      <th>Inflation (annual %)</th>\n",
       "      <th>Unemployment, total (% of total labor force) (modeled ILO estimate)</th>\n",
       "      <th>$2.15 a day - Number in poverty</th>\n",
       "    </tr>\n",
       "  </thead>\n",
       "  <tbody>\n",
       "    <tr>\n",
       "      <th>count</th>\n",
       "      <td>225.000000</td>\n",
       "      <td>225.000000</td>\n",
       "      <td>225.000000</td>\n",
       "      <td>225.000000</td>\n",
       "      <td>2.250000e+02</td>\n",
       "    </tr>\n",
       "    <tr>\n",
       "      <th>mean</th>\n",
       "      <td>102.401956</td>\n",
       "      <td>4374.955467</td>\n",
       "      <td>27.907156</td>\n",
       "      <td>7.377364</td>\n",
       "      <td>9.618702e+06</td>\n",
       "    </tr>\n",
       "    <tr>\n",
       "      <th>std</th>\n",
       "      <td>65.161979</td>\n",
       "      <td>4219.725752</td>\n",
       "      <td>276.036461</td>\n",
       "      <td>6.584414</td>\n",
       "      <td>1.494037e+07</td>\n",
       "    </tr>\n",
       "    <tr>\n",
       "      <th>min</th>\n",
       "      <td>2.910000</td>\n",
       "      <td>671.540000</td>\n",
       "      <td>-16.859692</td>\n",
       "      <td>0.320000</td>\n",
       "      <td>0.000000e+00</td>\n",
       "    </tr>\n",
       "    <tr>\n",
       "      <th>25%</th>\n",
       "      <td>61.930000</td>\n",
       "      <td>1517.700000</td>\n",
       "      <td>2.737239</td>\n",
       "      <td>3.100000</td>\n",
       "      <td>8.854070e+05</td>\n",
       "    </tr>\n",
       "    <tr>\n",
       "      <th>50%</th>\n",
       "      <td>100.000000</td>\n",
       "      <td>2849.820000</td>\n",
       "      <td>6.542510</td>\n",
       "      <td>4.961000</td>\n",
       "      <td>5.466798e+06</td>\n",
       "    </tr>\n",
       "    <tr>\n",
       "      <th>75%</th>\n",
       "      <td>119.530000</td>\n",
       "      <td>5089.780000</td>\n",
       "      <td>11.784484</td>\n",
       "      <td>9.704000</td>\n",
       "      <td>1.025217e+07</td>\n",
       "    </tr>\n",
       "    <tr>\n",
       "      <th>max</th>\n",
       "      <td>418.340000</td>\n",
       "      <td>22143.830000</td>\n",
       "      <td>4145.106000</td>\n",
       "      <td>31.840000</td>\n",
       "      <td>6.523411e+07</td>\n",
       "    </tr>\n",
       "  </tbody>\n",
       "</table>\n",
       "</div>"
      ],
      "text/plain": [
       "       Consumer price index  GDP per capita  Inflation (annual %)  \\\n",
       "count            225.000000      225.000000            225.000000   \n",
       "mean             102.401956     4374.955467             27.907156   \n",
       "std               65.161979     4219.725752            276.036461   \n",
       "min                2.910000      671.540000            -16.859692   \n",
       "25%               61.930000     1517.700000              2.737239   \n",
       "50%              100.000000     2849.820000              6.542510   \n",
       "75%              119.530000     5089.780000             11.784484   \n",
       "max              418.340000    22143.830000           4145.106000   \n",
       "\n",
       "       Unemployment, total (% of total labor force) (modeled ILO estimate)  \\\n",
       "count                                         225.000000                     \n",
       "mean                                            7.377364                     \n",
       "std                                             6.584414                     \n",
       "min                                             0.320000                     \n",
       "25%                                             3.100000                     \n",
       "50%                                             4.961000                     \n",
       "75%                                             9.704000                     \n",
       "max                                            31.840000                     \n",
       "\n",
       "       $2.15 a day - Number in poverty  \n",
       "count                     2.250000e+02  \n",
       "mean                      9.618702e+06  \n",
       "std                       1.494037e+07  \n",
       "min                       0.000000e+00  \n",
       "25%                       8.854070e+05  \n",
       "50%                       5.466798e+06  \n",
       "75%                       1.025217e+07  \n",
       "max                       6.523411e+07  "
      ]
     },
     "execution_count": 53,
     "metadata": {},
     "output_type": "execute_result"
    }
   ],
   "source": [
    "df.describe()\n",
    "\n",
    "# Descriptive statistics for numeric columns"
   ]
  },
  {
   "cell_type": "code",
   "execution_count": 55,
   "id": "0ed57427",
   "metadata": {},
   "outputs": [],
   "source": [
    "df.to_csv(r\"merged_data.csv\", index=False)\n",
    "\n",
    "# exporting merged data to my file directory"
   ]
  },
  {
   "cell_type": "markdown",
   "id": "532a1ab0",
   "metadata": {},
   "source": [
    "# 3. Investigate the Impact on Business Operations and Investment Decisions"
   ]
  },
  {
   "cell_type": "code",
   "execution_count": 75,
   "id": "804015ef",
   "metadata": {},
   "outputs": [],
   "source": [
    "fdi_inflow_as_share_of_gdp = pd.read_csv(r\"C:\\Users\\ODOSA\\Downloads\\Food Prices Analysis\\fdi_net_inflow_as_share _of_gdp.csv\")\n",
    "fdi_outflow_as_share_of_gdp = pd.read_csv(r\"C:\\Users\\ODOSA\\Downloads\\Food Prices Analysis\\fdi_net_outflow_as_share_of_gdp.csv\")\n",
    "annual_gdp_growth = pd.read_csv(r\"C:\\Users\\ODOSA\\Downloads\\Food Prices Analysis\\annual_gdp_growth.csv\")\n",
    "\n",
    "# Importing data"
   ]
  },
  {
   "cell_type": "code",
   "execution_count": 76,
   "id": "8a3affb9",
   "metadata": {},
   "outputs": [
    {
     "data": {
      "text/html": [
       "<div>\n",
       "<style scoped>\n",
       "    .dataframe tbody tr th:only-of-type {\n",
       "        vertical-align: middle;\n",
       "    }\n",
       "\n",
       "    .dataframe tbody tr th {\n",
       "        vertical-align: top;\n",
       "    }\n",
       "\n",
       "    .dataframe thead th {\n",
       "        text-align: right;\n",
       "    }\n",
       "</style>\n",
       "<table border=\"1\" class=\"dataframe\">\n",
       "  <thead>\n",
       "    <tr style=\"text-align: right;\">\n",
       "      <th></th>\n",
       "      <th>Entity</th>\n",
       "      <th>Code</th>\n",
       "      <th>Year</th>\n",
       "      <th>Foreign direct investment, net inflows (% of GDP)</th>\n",
       "    </tr>\n",
       "  </thead>\n",
       "  <tbody>\n",
       "    <tr>\n",
       "      <th>0</th>\n",
       "      <td>Afghanistan</td>\n",
       "      <td>AFG</td>\n",
       "      <td>1970</td>\n",
       "      <td>0.013151</td>\n",
       "    </tr>\n",
       "    <tr>\n",
       "      <th>1</th>\n",
       "      <td>Afghanistan</td>\n",
       "      <td>AFG</td>\n",
       "      <td>1971</td>\n",
       "      <td>0.024575</td>\n",
       "    </tr>\n",
       "    <tr>\n",
       "      <th>2</th>\n",
       "      <td>Afghanistan</td>\n",
       "      <td>AFG</td>\n",
       "      <td>1972</td>\n",
       "      <td>0.009401</td>\n",
       "    </tr>\n",
       "    <tr>\n",
       "      <th>3</th>\n",
       "      <td>Afghanistan</td>\n",
       "      <td>AFG</td>\n",
       "      <td>1973</td>\n",
       "      <td>0.015577</td>\n",
       "    </tr>\n",
       "    <tr>\n",
       "      <th>4</th>\n",
       "      <td>Afghanistan</td>\n",
       "      <td>AFG</td>\n",
       "      <td>1976</td>\n",
       "      <td>0.001565</td>\n",
       "    </tr>\n",
       "  </tbody>\n",
       "</table>\n",
       "</div>"
      ],
      "text/plain": [
       "        Entity Code  Year  Foreign direct investment, net inflows (% of GDP)\n",
       "0  Afghanistan  AFG  1970                                           0.013151\n",
       "1  Afghanistan  AFG  1971                                           0.024575\n",
       "2  Afghanistan  AFG  1972                                           0.009401\n",
       "3  Afghanistan  AFG  1973                                           0.015577\n",
       "4  Afghanistan  AFG  1976                                           0.001565"
      ]
     },
     "execution_count": 76,
     "metadata": {},
     "output_type": "execute_result"
    }
   ],
   "source": [
    "fdi_inflow_as_share_of_gdp.head()\n",
    "\n",
    "# getting first 5 rows of data"
   ]
  },
  {
   "cell_type": "code",
   "execution_count": 77,
   "id": "159ee3fc",
   "metadata": {},
   "outputs": [
    {
     "data": {
      "text/plain": [
       "Entity                                                 0\n",
       "Code                                                 679\n",
       "Year                                                   0\n",
       "Foreign direct investment, net inflows (% of GDP)      0\n",
       "dtype: int64"
      ]
     },
     "execution_count": 77,
     "metadata": {},
     "output_type": "execute_result"
    }
   ],
   "source": [
    "fdi_inflow_as_share_of_gdp.isna().sum()\n",
    "\n",
    "# Checking the total sum of null values in each columns of the dataset"
   ]
  },
  {
   "cell_type": "code",
   "execution_count": 78,
   "id": "c3a87378",
   "metadata": {},
   "outputs": [
    {
     "name": "stdout",
     "output_type": "stream",
     "text": [
      "<class 'pandas.core.frame.DataFrame'>\n",
      "RangeIndex: 9257 entries, 0 to 9256\n",
      "Data columns (total 4 columns):\n",
      " #   Column                                             Non-Null Count  Dtype  \n",
      "---  ------                                             --------------  -----  \n",
      " 0   Entity                                             9257 non-null   object \n",
      " 1   Code                                               8578 non-null   object \n",
      " 2   Year                                               9257 non-null   int64  \n",
      " 3   Foreign direct investment, net inflows (% of GDP)  9257 non-null   float64\n",
      "dtypes: float64(1), int64(1), object(2)\n",
      "memory usage: 289.4+ KB\n"
     ]
    }
   ],
   "source": [
    "fdi_inflow_as_share_of_gdp.info()\n",
    "\n",
    "# providing consise summary of the data"
   ]
  },
  {
   "cell_type": "code",
   "execution_count": 79,
   "id": "9d595d9c",
   "metadata": {},
   "outputs": [],
   "source": [
    "fdi_inflow_as_share_of_gdp['Year'] = pd.to_datetime(fdi_inflow_as_share_of_gdp['Year'], format='%Y')\n",
    "\n",
    "# Convert the 'Year' column to datetime"
   ]
  },
  {
   "cell_type": "code",
   "execution_count": 81,
   "id": "665d480e",
   "metadata": {},
   "outputs": [
    {
     "name": "stdout",
     "output_type": "stream",
     "text": [
      "Column: Entity, Data Type: object\n",
      "Column: Code, Data Type: object\n",
      "Column: Year, Data Type: datetime64[ns]\n",
      "Column: Foreign direct investment, net inflows (% of GDP), Data Type: float64\n"
     ]
    }
   ],
   "source": [
    "for column, dtype in fdi_inflow_as_share_of_gdp.dtypes.items():\n",
    "    print(f\"Column: {column}, Data Type: {dtype}\")\n",
    "    \n",
    "# confirming change in Datatype"
   ]
  },
  {
   "cell_type": "code",
   "execution_count": 82,
   "id": "d5a54eee",
   "metadata": {},
   "outputs": [
    {
     "data": {
      "text/html": [
       "<div>\n",
       "<style scoped>\n",
       "    .dataframe tbody tr th:only-of-type {\n",
       "        vertical-align: middle;\n",
       "    }\n",
       "\n",
       "    .dataframe tbody tr th {\n",
       "        vertical-align: top;\n",
       "    }\n",
       "\n",
       "    .dataframe thead th {\n",
       "        text-align: right;\n",
       "    }\n",
       "</style>\n",
       "<table border=\"1\" class=\"dataframe\">\n",
       "  <thead>\n",
       "    <tr style=\"text-align: right;\">\n",
       "      <th></th>\n",
       "      <th>Entity</th>\n",
       "      <th>Code</th>\n",
       "      <th>Year</th>\n",
       "      <th>Foreign direct investment, net outflows (% of GDP)</th>\n",
       "    </tr>\n",
       "  </thead>\n",
       "  <tbody>\n",
       "    <tr>\n",
       "      <th>0</th>\n",
       "      <td>Afghanistan</td>\n",
       "      <td>AFG</td>\n",
       "      <td>1979</td>\n",
       "      <td>0.000000</td>\n",
       "    </tr>\n",
       "    <tr>\n",
       "      <th>1</th>\n",
       "      <td>Afghanistan</td>\n",
       "      <td>AFG</td>\n",
       "      <td>1980</td>\n",
       "      <td>0.000000</td>\n",
       "    </tr>\n",
       "    <tr>\n",
       "      <th>2</th>\n",
       "      <td>Afghanistan</td>\n",
       "      <td>AFG</td>\n",
       "      <td>1981</td>\n",
       "      <td>0.000000</td>\n",
       "    </tr>\n",
       "    <tr>\n",
       "      <th>3</th>\n",
       "      <td>Afghanistan</td>\n",
       "      <td>AFG</td>\n",
       "      <td>2003</td>\n",
       "      <td>0.022119</td>\n",
       "    </tr>\n",
       "    <tr>\n",
       "      <th>4</th>\n",
       "      <td>Afghanistan</td>\n",
       "      <td>AFG</td>\n",
       "      <td>2004</td>\n",
       "      <td>-0.013397</td>\n",
       "    </tr>\n",
       "  </tbody>\n",
       "</table>\n",
       "</div>"
      ],
      "text/plain": [
       "        Entity Code  Year  Foreign direct investment, net outflows (% of GDP)\n",
       "0  Afghanistan  AFG  1979                                           0.000000 \n",
       "1  Afghanistan  AFG  1980                                           0.000000 \n",
       "2  Afghanistan  AFG  1981                                           0.000000 \n",
       "3  Afghanistan  AFG  2003                                           0.022119 \n",
       "4  Afghanistan  AFG  2004                                          -0.013397 "
      ]
     },
     "execution_count": 82,
     "metadata": {},
     "output_type": "execute_result"
    }
   ],
   "source": [
    "fdi_outflow_as_share_of_gdp.head()\n",
    "\n",
    "# getting first 5 rows of data"
   ]
  },
  {
   "cell_type": "code",
   "execution_count": 83,
   "id": "4aaeb498",
   "metadata": {},
   "outputs": [
    {
     "data": {
      "text/plain": [
       "Entity                                                  0\n",
       "Code                                                  614\n",
       "Year                                                    0\n",
       "Foreign direct investment, net outflows (% of GDP)      0\n",
       "dtype: int64"
      ]
     },
     "execution_count": 83,
     "metadata": {},
     "output_type": "execute_result"
    }
   ],
   "source": [
    "fdi_outflow_as_share_of_gdp.isna().sum()\n",
    "\n",
    "# Checking the total sum of null values in each columns of the dataset"
   ]
  },
  {
   "cell_type": "code",
   "execution_count": 84,
   "id": "2774d379",
   "metadata": {},
   "outputs": [
    {
     "name": "stdout",
     "output_type": "stream",
     "text": [
      "<class 'pandas.core.frame.DataFrame'>\n",
      "RangeIndex: 7863 entries, 0 to 7862\n",
      "Data columns (total 4 columns):\n",
      " #   Column                                              Non-Null Count  Dtype  \n",
      "---  ------                                              --------------  -----  \n",
      " 0   Entity                                              7863 non-null   object \n",
      " 1   Code                                                7249 non-null   object \n",
      " 2   Year                                                7863 non-null   int64  \n",
      " 3   Foreign direct investment, net outflows (% of GDP)  7863 non-null   float64\n",
      "dtypes: float64(1), int64(1), object(2)\n",
      "memory usage: 245.8+ KB\n"
     ]
    }
   ],
   "source": [
    "fdi_outflow_as_share_of_gdp.info()\n",
    "\n",
    "# providing consise summary of the data"
   ]
  },
  {
   "cell_type": "code",
   "execution_count": 85,
   "id": "6973172c",
   "metadata": {},
   "outputs": [],
   "source": [
    "fdi_outflow_as_share_of_gdp['Year'] = pd.to_datetime(fdi_inflow_as_share_of_gdp['Year'], format='%Y')\n",
    "\n",
    "# Convert the 'Year' column to datetime"
   ]
  },
  {
   "cell_type": "code",
   "execution_count": 86,
   "id": "d8c99db0",
   "metadata": {},
   "outputs": [
    {
     "name": "stdout",
     "output_type": "stream",
     "text": [
      "Column: Entity, Data Type: object\n",
      "Column: Code, Data Type: object\n",
      "Column: Year, Data Type: datetime64[ns]\n",
      "Column: Foreign direct investment, net outflows (% of GDP), Data Type: float64\n"
     ]
    }
   ],
   "source": [
    "for column, dtype in fdi_outflow_as_share_of_gdp.dtypes.items():\n",
    "    print(f\"Column: {column}, Data Type: {dtype}\")\n",
    "    \n",
    "# confirming change in Datatype"
   ]
  },
  {
   "cell_type": "code",
   "execution_count": 87,
   "id": "788c81fa",
   "metadata": {},
   "outputs": [
    {
     "data": {
      "text/html": [
       "<div>\n",
       "<style scoped>\n",
       "    .dataframe tbody tr th:only-of-type {\n",
       "        vertical-align: middle;\n",
       "    }\n",
       "\n",
       "    .dataframe tbody tr th {\n",
       "        vertical-align: top;\n",
       "    }\n",
       "\n",
       "    .dataframe thead th {\n",
       "        text-align: right;\n",
       "    }\n",
       "</style>\n",
       "<table border=\"1\" class=\"dataframe\">\n",
       "  <thead>\n",
       "    <tr style=\"text-align: right;\">\n",
       "      <th></th>\n",
       "      <th>Entity</th>\n",
       "      <th>Code</th>\n",
       "      <th>Year</th>\n",
       "      <th>17.13.1 - Annual GDP growth (%) - NY_GDP_MKTP_KD_ZG</th>\n",
       "    </tr>\n",
       "  </thead>\n",
       "  <tbody>\n",
       "    <tr>\n",
       "      <th>0</th>\n",
       "      <td>Afghanistan</td>\n",
       "      <td>AFG</td>\n",
       "      <td>2003</td>\n",
       "      <td>8.83</td>\n",
       "    </tr>\n",
       "    <tr>\n",
       "      <th>1</th>\n",
       "      <td>Afghanistan</td>\n",
       "      <td>AFG</td>\n",
       "      <td>2004</td>\n",
       "      <td>1.41</td>\n",
       "    </tr>\n",
       "    <tr>\n",
       "      <th>2</th>\n",
       "      <td>Afghanistan</td>\n",
       "      <td>AFG</td>\n",
       "      <td>2005</td>\n",
       "      <td>11.23</td>\n",
       "    </tr>\n",
       "    <tr>\n",
       "      <th>3</th>\n",
       "      <td>Afghanistan</td>\n",
       "      <td>AFG</td>\n",
       "      <td>2006</td>\n",
       "      <td>5.36</td>\n",
       "    </tr>\n",
       "    <tr>\n",
       "      <th>4</th>\n",
       "      <td>Afghanistan</td>\n",
       "      <td>AFG</td>\n",
       "      <td>2007</td>\n",
       "      <td>13.83</td>\n",
       "    </tr>\n",
       "  </tbody>\n",
       "</table>\n",
       "</div>"
      ],
      "text/plain": [
       "        Entity Code  Year  17.13.1 - Annual GDP growth (%) - NY_GDP_MKTP_KD_ZG\n",
       "0  Afghanistan  AFG  2003                                               8.83  \n",
       "1  Afghanistan  AFG  2004                                               1.41  \n",
       "2  Afghanistan  AFG  2005                                              11.23  \n",
       "3  Afghanistan  AFG  2006                                               5.36  \n",
       "4  Afghanistan  AFG  2007                                              13.83  "
      ]
     },
     "execution_count": 87,
     "metadata": {},
     "output_type": "execute_result"
    }
   ],
   "source": [
    "annual_gdp_growth.head()\n",
    "\n",
    "# getting first 5 rows of data"
   ]
  },
  {
   "cell_type": "code",
   "execution_count": 88,
   "id": "563eee35",
   "metadata": {},
   "outputs": [
    {
     "data": {
      "text/plain": [
       "Entity                                                   0\n",
       "Code                                                   299\n",
       "Year                                                     0\n",
       "17.13.1 - Annual GDP growth (%) - NY_GDP_MKTP_KD_ZG      0\n",
       "dtype: int64"
      ]
     },
     "execution_count": 88,
     "metadata": {},
     "output_type": "execute_result"
    }
   ],
   "source": [
    "annual_gdp_growth.isna().sum()\n",
    "\n",
    "# Checking the total sum of null values in each columns of the dataset"
   ]
  },
  {
   "cell_type": "code",
   "execution_count": 89,
   "id": "5a7da445",
   "metadata": {},
   "outputs": [
    {
     "name": "stdout",
     "output_type": "stream",
     "text": [
      "<class 'pandas.core.frame.DataFrame'>\n",
      "RangeIndex: 5006 entries, 0 to 5005\n",
      "Data columns (total 4 columns):\n",
      " #   Column                                               Non-Null Count  Dtype  \n",
      "---  ------                                               --------------  -----  \n",
      " 0   Entity                                               5006 non-null   object \n",
      " 1   Code                                                 4707 non-null   object \n",
      " 2   Year                                                 5006 non-null   int64  \n",
      " 3   17.13.1 - Annual GDP growth (%) - NY_GDP_MKTP_KD_ZG  5006 non-null   float64\n",
      "dtypes: float64(1), int64(1), object(2)\n",
      "memory usage: 156.6+ KB\n"
     ]
    }
   ],
   "source": [
    "annual_gdp_growth.info()\n",
    "\n",
    "# providing consise summary of the data"
   ]
  },
  {
   "cell_type": "code",
   "execution_count": 90,
   "id": "d245d930",
   "metadata": {},
   "outputs": [],
   "source": [
    "annual_gdp_growth['Year'] = pd.to_datetime(annual_gdp_growth['Year'], format='%Y')\n",
    "\n",
    "# Convert the 'Year' column to datetime"
   ]
  },
  {
   "cell_type": "code",
   "execution_count": 91,
   "id": "c0d728bc",
   "metadata": {},
   "outputs": [
    {
     "name": "stdout",
     "output_type": "stream",
     "text": [
      "Column: Entity, Data Type: object\n",
      "Column: Code, Data Type: object\n",
      "Column: Year, Data Type: datetime64[ns]\n",
      "Column: 17.13.1 - Annual GDP growth (%) - NY_GDP_MKTP_KD_ZG, Data Type: float64\n"
     ]
    }
   ],
   "source": [
    "for column, dtype in annual_gdp_growth.dtypes.items():\n",
    "    print(f\"Column: {column}, Data Type: {dtype}\")\n",
    "    \n",
    "# confirming change in Datatype"
   ]
  },
  {
   "cell_type": "code",
   "execution_count": 92,
   "id": "3b7dc114",
   "metadata": {},
   "outputs": [],
   "source": [
    "fdi_inflow_as_share_of_gdp.drop(columns='Code', inplace=True)\n",
    "fdi_outflow_as_share_of_gdp.drop(columns='Code', inplace=True)\n",
    "annual_gdp_growth.drop(columns='Code', inplace=True)\n",
    "\n",
    "# Dropping the \"Code\" column in all of the dataset"
   ]
  },
  {
   "cell_type": "code",
   "execution_count": 94,
   "id": "8cd64684",
   "metadata": {},
   "outputs": [],
   "source": [
    "fdi_inflow_as_share_of_gdp_af = fdi_inflow_as_share_of_gdp[fdi_inflow_as_share_of_gdp['Entity'].isin(african_countries)]\n",
    "fdi_outflow_as_share_of_gdp_af = fdi_outflow_as_share_of_gdp[fdi_outflow_as_share_of_gdp['Entity'].isin(african_countries)]\n",
    "annual_gdp_growth_af = annual_gdp_growth[annual_gdp_growth['Entity'].isin(african_countries)]\n",
    "\n",
    "# Filtering each dataset for African Countries only"
   ]
  },
  {
   "cell_type": "code",
   "execution_count": 95,
   "id": "770b8eaa",
   "metadata": {},
   "outputs": [
    {
     "data": {
      "text/plain": [
       "array(['Algeria', 'Angola', 'Benin', 'Botswana', 'Burkina Faso',\n",
       "       'Burundi', 'Cameroon', 'Central African Republic', 'Chad',\n",
       "       'Comoros', 'Congo', 'Djibouti', 'Egypt', 'Equatorial Guinea',\n",
       "       'Eritrea', 'Eswatini', 'Ethiopia', 'Gabon', 'Gambia', 'Ghana',\n",
       "       'Guinea', 'Guinea-Bissau', 'Kenya', 'Lesotho', 'Liberia', 'Libya',\n",
       "       'Madagascar', 'Malawi', 'Mali', 'Mauritania', 'Mauritius',\n",
       "       'Morocco', 'Mozambique', 'Namibia', 'Niger', 'Nigeria', 'Rwanda',\n",
       "       'Sao Tome and Principe', 'Senegal', 'Seychelles', 'Sierra Leone',\n",
       "       'Somalia', 'South Africa', 'South Sudan', 'Sudan', 'Tanzania',\n",
       "       'Togo', 'Tunisia', 'Uganda', 'Zambia', 'Zimbabwe'], dtype=object)"
      ]
     },
     "execution_count": 95,
     "metadata": {},
     "output_type": "execute_result"
    }
   ],
   "source": [
    "fdi_inflow_as_share_of_gdp_af[\"Entity\"].unique()\n",
    "\n",
    "# getting unique values in the \"Entity\" column to comfirm filtering"
   ]
  },
  {
   "cell_type": "code",
   "execution_count": 96,
   "id": "7d970392",
   "metadata": {},
   "outputs": [
    {
     "data": {
      "text/plain": [
       "array(['Algeria', 'Angola', 'Benin', 'Botswana', 'Burkina Faso',\n",
       "       'Burundi', 'Cameroon', 'Central African Republic', 'Chad',\n",
       "       'Comoros', 'Congo', 'Egypt', 'Equatorial Guinea', 'Eritrea',\n",
       "       'Eswatini', 'Ethiopia', 'Gabon', 'Gambia', 'Ghana', 'Guinea',\n",
       "       'Guinea-Bissau', 'Kenya', 'Lesotho', 'Liberia', 'Libya',\n",
       "       'Madagascar', 'Malawi', 'Mali', 'Mauritania', 'Mauritius',\n",
       "       'Morocco', 'Mozambique', 'Namibia', 'Niger', 'Nigeria', 'Rwanda',\n",
       "       'Sao Tome and Principe', 'Senegal', 'Seychelles', 'Sierra Leone',\n",
       "       'South Africa', 'South Sudan', 'Sudan', 'Tanzania', 'Togo',\n",
       "       'Tunisia', 'Uganda', 'Zambia', 'Zimbabwe'], dtype=object)"
      ]
     },
     "execution_count": 96,
     "metadata": {},
     "output_type": "execute_result"
    }
   ],
   "source": [
    "fdi_outflow_as_share_of_gdp_af[\"Entity\"].unique()\n",
    "\n",
    "# getting unique values in the \"Entity\" column to confirm filtering"
   ]
  },
  {
   "cell_type": "code",
   "execution_count": 97,
   "id": "1a613d08",
   "metadata": {},
   "outputs": [
    {
     "data": {
      "text/plain": [
       "array(['Algeria', 'Angola', 'Benin', 'Botswana', 'Burkina Faso',\n",
       "       'Burundi', 'Cameroon', 'Central African Republic', 'Chad',\n",
       "       'Comoros', 'Congo', 'Djibouti', 'Egypt', 'Equatorial Guinea',\n",
       "       'Eritrea', 'Eswatini', 'Ethiopia', 'Gabon', 'Gambia', 'Ghana',\n",
       "       'Guinea', 'Guinea-Bissau', 'Kenya', 'Lesotho', 'Liberia', 'Libya',\n",
       "       'Madagascar', 'Malawi', 'Mali', 'Mauritania', 'Mauritius',\n",
       "       'Morocco', 'Mozambique', 'Namibia', 'Niger', 'Nigeria', 'Rwanda',\n",
       "       'Sao Tome and Principe', 'Senegal', 'Seychelles', 'Sierra Leone',\n",
       "       'Somalia', 'South Africa', 'South Sudan', 'Sudan', 'Tanzania',\n",
       "       'Togo', 'Tunisia', 'Uganda', 'Zambia', 'Zimbabwe'], dtype=object)"
      ]
     },
     "execution_count": 97,
     "metadata": {},
     "output_type": "execute_result"
    }
   ],
   "source": [
    "annual_gdp_growth_af[\"Entity\"].unique()\n",
    "\n",
    "# getting unique values in the \"Entity\" column to confirm filtering"
   ]
  },
  {
   "cell_type": "code",
   "execution_count": 98,
   "id": "9470782e",
   "metadata": {},
   "outputs": [
    {
     "name": "stderr",
     "output_type": "stream",
     "text": [
      "C:\\Users\\ODOSA\\anaconda3\\lib\\site-packages\\pandas\\core\\frame.py:5039: SettingWithCopyWarning: \n",
      "A value is trying to be set on a copy of a slice from a DataFrame\n",
      "\n",
      "See the caveats in the documentation: https://pandas.pydata.org/pandas-docs/stable/user_guide/indexing.html#returning-a-view-versus-a-copy\n",
      "  return super().rename(\n"
     ]
    }
   ],
   "source": [
    "annual_gdp_growth_af.rename(columns={'17.13.1 - Annual GDP growth (%) - NY_GDP_MKTP_KD_ZG': 'Annual GDP growth (%)'}, inplace=True)\n",
    "\n",
    " # Rename '17.13.1 - Annual GDP growth (%) - NY_GDP_MKTP_KD_ZG' to 'Annual GDP growth (%)'"
   ]
  },
  {
   "cell_type": "code",
   "execution_count": 99,
   "id": "8b430811",
   "metadata": {},
   "outputs": [
    {
     "data": {
      "text/html": [
       "<div>\n",
       "<style scoped>\n",
       "    .dataframe tbody tr th:only-of-type {\n",
       "        vertical-align: middle;\n",
       "    }\n",
       "\n",
       "    .dataframe tbody tr th {\n",
       "        vertical-align: top;\n",
       "    }\n",
       "\n",
       "    .dataframe thead th {\n",
       "        text-align: right;\n",
       "    }\n",
       "</style>\n",
       "<table border=\"1\" class=\"dataframe\">\n",
       "  <thead>\n",
       "    <tr style=\"text-align: right;\">\n",
       "      <th></th>\n",
       "      <th>Entity</th>\n",
       "      <th>Year</th>\n",
       "      <th>Annual GDP growth (%)</th>\n",
       "    </tr>\n",
       "  </thead>\n",
       "  <tbody>\n",
       "    <tr>\n",
       "      <th>42</th>\n",
       "      <td>Algeria</td>\n",
       "      <td>2000-01-01</td>\n",
       "      <td>3.8</td>\n",
       "    </tr>\n",
       "    <tr>\n",
       "      <th>43</th>\n",
       "      <td>Algeria</td>\n",
       "      <td>2001-01-01</td>\n",
       "      <td>3.0</td>\n",
       "    </tr>\n",
       "    <tr>\n",
       "      <th>44</th>\n",
       "      <td>Algeria</td>\n",
       "      <td>2002-01-01</td>\n",
       "      <td>5.6</td>\n",
       "    </tr>\n",
       "    <tr>\n",
       "      <th>45</th>\n",
       "      <td>Algeria</td>\n",
       "      <td>2003-01-01</td>\n",
       "      <td>7.2</td>\n",
       "    </tr>\n",
       "    <tr>\n",
       "      <th>46</th>\n",
       "      <td>Algeria</td>\n",
       "      <td>2004-01-01</td>\n",
       "      <td>4.3</td>\n",
       "    </tr>\n",
       "  </tbody>\n",
       "</table>\n",
       "</div>"
      ],
      "text/plain": [
       "     Entity       Year  Annual GDP growth (%)\n",
       "42  Algeria 2000-01-01                    3.8\n",
       "43  Algeria 2001-01-01                    3.0\n",
       "44  Algeria 2002-01-01                    5.6\n",
       "45  Algeria 2003-01-01                    7.2\n",
       "46  Algeria 2004-01-01                    4.3"
      ]
     },
     "execution_count": 99,
     "metadata": {},
     "output_type": "execute_result"
    }
   ],
   "source": [
    "annual_gdp_growth_af.head()"
   ]
  },
  {
   "cell_type": "code",
   "execution_count": 101,
   "id": "a90fca97",
   "metadata": {},
   "outputs": [],
   "source": [
    "col_fdi_inflows = col_af.merge(fdi_inflow_as_share_of_gdp_af, on=['Entity'])\n",
    "\n",
    "# Merginig datasets"
   ]
  },
  {
   "cell_type": "code",
   "execution_count": 103,
   "id": "411f8076",
   "metadata": {},
   "outputs": [
    {
     "data": {
      "text/html": [
       "<div>\n",
       "<style scoped>\n",
       "    .dataframe tbody tr th:only-of-type {\n",
       "        vertical-align: middle;\n",
       "    }\n",
       "\n",
       "    .dataframe tbody tr th {\n",
       "        vertical-align: top;\n",
       "    }\n",
       "\n",
       "    .dataframe thead th {\n",
       "        text-align: right;\n",
       "    }\n",
       "</style>\n",
       "<table border=\"1\" class=\"dataframe\">\n",
       "  <thead>\n",
       "    <tr style=\"text-align: right;\">\n",
       "      <th></th>\n",
       "      <th>Entity</th>\n",
       "      <th>Cost of Living Index</th>\n",
       "      <th>Rent Index</th>\n",
       "      <th>Cost of Living Plus Rent Index</th>\n",
       "      <th>Groceries Index</th>\n",
       "      <th>Restaurant Price Index</th>\n",
       "      <th>Local Purchasing Power Index</th>\n",
       "      <th>Year</th>\n",
       "      <th>Foreign direct investment, net inflows (% of GDP)</th>\n",
       "    </tr>\n",
       "  </thead>\n",
       "  <tbody>\n",
       "    <tr>\n",
       "      <th>0</th>\n",
       "      <td>Cameroon</td>\n",
       "      <td>37.3</td>\n",
       "      <td>16.9</td>\n",
       "      <td>27.5</td>\n",
       "      <td>34.6</td>\n",
       "      <td>35.3</td>\n",
       "      <td>10.5</td>\n",
       "      <td>1970-01-01</td>\n",
       "      <td>1.389834</td>\n",
       "    </tr>\n",
       "    <tr>\n",
       "      <th>1</th>\n",
       "      <td>Cameroon</td>\n",
       "      <td>37.3</td>\n",
       "      <td>16.9</td>\n",
       "      <td>27.5</td>\n",
       "      <td>34.6</td>\n",
       "      <td>35.3</td>\n",
       "      <td>10.5</td>\n",
       "      <td>1971-01-01</td>\n",
       "      <td>0.137436</td>\n",
       "    </tr>\n",
       "    <tr>\n",
       "      <th>2</th>\n",
       "      <td>Cameroon</td>\n",
       "      <td>37.3</td>\n",
       "      <td>16.9</td>\n",
       "      <td>27.5</td>\n",
       "      <td>34.6</td>\n",
       "      <td>35.3</td>\n",
       "      <td>10.5</td>\n",
       "      <td>1972-01-01</td>\n",
       "      <td>0.220257</td>\n",
       "    </tr>\n",
       "    <tr>\n",
       "      <th>3</th>\n",
       "      <td>Cameroon</td>\n",
       "      <td>37.3</td>\n",
       "      <td>16.9</td>\n",
       "      <td>27.5</td>\n",
       "      <td>34.6</td>\n",
       "      <td>35.3</td>\n",
       "      <td>10.5</td>\n",
       "      <td>1973-01-01</td>\n",
       "      <td>0.163038</td>\n",
       "    </tr>\n",
       "    <tr>\n",
       "      <th>4</th>\n",
       "      <td>Cameroon</td>\n",
       "      <td>37.3</td>\n",
       "      <td>16.9</td>\n",
       "      <td>27.5</td>\n",
       "      <td>34.6</td>\n",
       "      <td>35.3</td>\n",
       "      <td>10.5</td>\n",
       "      <td>1974-01-01</td>\n",
       "      <td>1.001198</td>\n",
       "    </tr>\n",
       "  </tbody>\n",
       "</table>\n",
       "</div>"
      ],
      "text/plain": [
       "     Entity  Cost of Living Index  Rent Index  Cost of Living Plus Rent Index  \\\n",
       "0  Cameroon                  37.3        16.9                            27.5   \n",
       "1  Cameroon                  37.3        16.9                            27.5   \n",
       "2  Cameroon                  37.3        16.9                            27.5   \n",
       "3  Cameroon                  37.3        16.9                            27.5   \n",
       "4  Cameroon                  37.3        16.9                            27.5   \n",
       "\n",
       "   Groceries Index  Restaurant Price Index  Local Purchasing Power Index  \\\n",
       "0             34.6                    35.3                          10.5   \n",
       "1             34.6                    35.3                          10.5   \n",
       "2             34.6                    35.3                          10.5   \n",
       "3             34.6                    35.3                          10.5   \n",
       "4             34.6                    35.3                          10.5   \n",
       "\n",
       "        Year  Foreign direct investment, net inflows (% of GDP)  \n",
       "0 1970-01-01                                           1.389834  \n",
       "1 1971-01-01                                           0.137436  \n",
       "2 1972-01-01                                           0.220257  \n",
       "3 1973-01-01                                           0.163038  \n",
       "4 1974-01-01                                           1.001198  "
      ]
     },
     "execution_count": 103,
     "metadata": {},
     "output_type": "execute_result"
    }
   ],
   "source": [
    "col_fdi_inflows.head()\n",
    "\n",
    "# getting first 5 rows of data"
   ]
  },
  {
   "cell_type": "code",
   "execution_count": 105,
   "id": "979372e9",
   "metadata": {},
   "outputs": [
    {
     "data": {
      "text/plain": [
       "Entity                                               0\n",
       "Cost of Living Index                                 0\n",
       "Rent Index                                           0\n",
       "Cost of Living Plus Rent Index                       0\n",
       "Groceries Index                                      0\n",
       "Restaurant Price Index                               0\n",
       "Local Purchasing Power Index                         0\n",
       "Year                                                 0\n",
       "Foreign direct investment, net inflows (% of GDP)    0\n",
       "dtype: int64"
      ]
     },
     "execution_count": 105,
     "metadata": {},
     "output_type": "execute_result"
    }
   ],
   "source": [
    "col_fdi_inflows.isna().sum()\n",
    "\n",
    "# checking for null values"
   ]
  },
  {
   "cell_type": "code",
   "execution_count": 107,
   "id": "f31ed4da",
   "metadata": {},
   "outputs": [
    {
     "data": {
      "text/html": [
       "<div>\n",
       "<style scoped>\n",
       "    .dataframe tbody tr th:only-of-type {\n",
       "        vertical-align: middle;\n",
       "    }\n",
       "\n",
       "    .dataframe tbody tr th {\n",
       "        vertical-align: top;\n",
       "    }\n",
       "\n",
       "    .dataframe thead th {\n",
       "        text-align: right;\n",
       "    }\n",
       "</style>\n",
       "<table border=\"1\" class=\"dataframe\">\n",
       "  <thead>\n",
       "    <tr style=\"text-align: right;\">\n",
       "      <th></th>\n",
       "      <th>Cost of Living Index</th>\n",
       "      <th>Rent Index</th>\n",
       "      <th>Cost of Living Plus Rent Index</th>\n",
       "      <th>Groceries Index</th>\n",
       "      <th>Restaurant Price Index</th>\n",
       "      <th>Local Purchasing Power Index</th>\n",
       "      <th>Foreign direct investment, net inflows (% of GDP)</th>\n",
       "    </tr>\n",
       "  </thead>\n",
       "  <tbody>\n",
       "    <tr>\n",
       "      <th>count</th>\n",
       "      <td>798.000000</td>\n",
       "      <td>798.000000</td>\n",
       "      <td>798.000000</td>\n",
       "      <td>798.000000</td>\n",
       "      <td>798.000000</td>\n",
       "      <td>798.000000</td>\n",
       "      <td>798.000000</td>\n",
       "    </tr>\n",
       "    <tr>\n",
       "      <th>mean</th>\n",
       "      <td>29.952130</td>\n",
       "      <td>9.090351</td>\n",
       "      <td>19.946992</td>\n",
       "      <td>31.108396</td>\n",
       "      <td>21.717293</td>\n",
       "      <td>32.983459</td>\n",
       "      <td>1.564456</td>\n",
       "    </tr>\n",
       "    <tr>\n",
       "      <th>std</th>\n",
       "      <td>4.955543</td>\n",
       "      <td>4.782637</td>\n",
       "      <td>4.310698</td>\n",
       "      <td>5.269299</td>\n",
       "      <td>6.064157</td>\n",
       "      <td>22.997716</td>\n",
       "      <td>1.989260</td>\n",
       "    </tr>\n",
       "    <tr>\n",
       "      <th>min</th>\n",
       "      <td>20.400000</td>\n",
       "      <td>3.700000</td>\n",
       "      <td>12.700000</td>\n",
       "      <td>21.200000</td>\n",
       "      <td>14.000000</td>\n",
       "      <td>10.500000</td>\n",
       "      <td>-10.774799</td>\n",
       "    </tr>\n",
       "    <tr>\n",
       "      <th>25%</th>\n",
       "      <td>28.100000</td>\n",
       "      <td>6.100000</td>\n",
       "      <td>16.900000</td>\n",
       "      <td>29.300000</td>\n",
       "      <td>16.200000</td>\n",
       "      <td>17.800000</td>\n",
       "      <td>0.284263</td>\n",
       "    </tr>\n",
       "    <tr>\n",
       "      <th>50%</th>\n",
       "      <td>30.100000</td>\n",
       "      <td>8.400000</td>\n",
       "      <td>18.900000</td>\n",
       "      <td>31.000000</td>\n",
       "      <td>21.600000</td>\n",
       "      <td>26.100000</td>\n",
       "      <td>1.036727</td>\n",
       "    </tr>\n",
       "    <tr>\n",
       "      <th>75%</th>\n",
       "      <td>34.500000</td>\n",
       "      <td>10.200000</td>\n",
       "      <td>24.100000</td>\n",
       "      <td>35.500000</td>\n",
       "      <td>26.700000</td>\n",
       "      <td>38.600000</td>\n",
       "      <td>2.209828</td>\n",
       "    </tr>\n",
       "    <tr>\n",
       "      <th>max</th>\n",
       "      <td>37.300000</td>\n",
       "      <td>22.100000</td>\n",
       "      <td>27.500000</td>\n",
       "      <td>40.700000</td>\n",
       "      <td>35.300000</td>\n",
       "      <td>102.800000</td>\n",
       "      <td>15.594140</td>\n",
       "    </tr>\n",
       "  </tbody>\n",
       "</table>\n",
       "</div>"
      ],
      "text/plain": [
       "       Cost of Living Index  Rent Index  Cost of Living Plus Rent Index  \\\n",
       "count            798.000000  798.000000                      798.000000   \n",
       "mean              29.952130    9.090351                       19.946992   \n",
       "std                4.955543    4.782637                        4.310698   \n",
       "min               20.400000    3.700000                       12.700000   \n",
       "25%               28.100000    6.100000                       16.900000   \n",
       "50%               30.100000    8.400000                       18.900000   \n",
       "75%               34.500000   10.200000                       24.100000   \n",
       "max               37.300000   22.100000                       27.500000   \n",
       "\n",
       "       Groceries Index  Restaurant Price Index  Local Purchasing Power Index  \\\n",
       "count       798.000000              798.000000                    798.000000   \n",
       "mean         31.108396               21.717293                     32.983459   \n",
       "std           5.269299                6.064157                     22.997716   \n",
       "min          21.200000               14.000000                     10.500000   \n",
       "25%          29.300000               16.200000                     17.800000   \n",
       "50%          31.000000               21.600000                     26.100000   \n",
       "75%          35.500000               26.700000                     38.600000   \n",
       "max          40.700000               35.300000                    102.800000   \n",
       "\n",
       "       Foreign direct investment, net inflows (% of GDP)  \n",
       "count                                         798.000000  \n",
       "mean                                            1.564456  \n",
       "std                                             1.989260  \n",
       "min                                           -10.774799  \n",
       "25%                                             0.284263  \n",
       "50%                                             1.036727  \n",
       "75%                                             2.209828  \n",
       "max                                            15.594140  "
      ]
     },
     "execution_count": 107,
     "metadata": {},
     "output_type": "execute_result"
    }
   ],
   "source": [
    "col_fdi_inflows.describe()\n",
    "\n",
    "# Descriptive statistics for numeric columns"
   ]
  },
  {
   "cell_type": "code",
   "execution_count": 122,
   "id": "a5948e1f",
   "metadata": {},
   "outputs": [],
   "source": [
    "col_fdi_inflows.to_csv(r\"col_fdi_inflows.csv\", index=False)\n",
    "\n",
    "# exporting merged data to my file directory"
   ]
  },
  {
   "cell_type": "code",
   "execution_count": 110,
   "id": "f2d8cfff",
   "metadata": {},
   "outputs": [],
   "source": [
    "gdp_growth_fdi_inflows = annual_gdp_growth_af.merge(fdi_inflow_as_share_of_gdp_af, on=['Entity', 'Year'])\n",
    "\n",
    "# Merginig datasets"
   ]
  },
  {
   "cell_type": "code",
   "execution_count": 111,
   "id": "e32ac331",
   "metadata": {},
   "outputs": [
    {
     "data": {
      "text/html": [
       "<div>\n",
       "<style scoped>\n",
       "    .dataframe tbody tr th:only-of-type {\n",
       "        vertical-align: middle;\n",
       "    }\n",
       "\n",
       "    .dataframe tbody tr th {\n",
       "        vertical-align: top;\n",
       "    }\n",
       "\n",
       "    .dataframe thead th {\n",
       "        text-align: right;\n",
       "    }\n",
       "</style>\n",
       "<table border=\"1\" class=\"dataframe\">\n",
       "  <thead>\n",
       "    <tr style=\"text-align: right;\">\n",
       "      <th></th>\n",
       "      <th>Entity</th>\n",
       "      <th>Year</th>\n",
       "      <th>Annual GDP growth (%)</th>\n",
       "      <th>Foreign direct investment, net inflows (% of GDP)</th>\n",
       "    </tr>\n",
       "  </thead>\n",
       "  <tbody>\n",
       "    <tr>\n",
       "      <th>0</th>\n",
       "      <td>Algeria</td>\n",
       "      <td>2000-01-01</td>\n",
       "      <td>3.80</td>\n",
       "      <td>0.511221</td>\n",
       "    </tr>\n",
       "    <tr>\n",
       "      <th>1</th>\n",
       "      <td>Algeria</td>\n",
       "      <td>2001-01-01</td>\n",
       "      <td>3.00</td>\n",
       "      <td>2.033266</td>\n",
       "    </tr>\n",
       "    <tr>\n",
       "      <th>2</th>\n",
       "      <td>Algeria</td>\n",
       "      <td>2002-01-01</td>\n",
       "      <td>5.60</td>\n",
       "      <td>1.876239</td>\n",
       "    </tr>\n",
       "    <tr>\n",
       "      <th>3</th>\n",
       "      <td>Algeria</td>\n",
       "      <td>2003-01-01</td>\n",
       "      <td>7.20</td>\n",
       "      <td>0.939901</td>\n",
       "    </tr>\n",
       "    <tr>\n",
       "      <th>4</th>\n",
       "      <td>Algeria</td>\n",
       "      <td>2004-01-01</td>\n",
       "      <td>4.30</td>\n",
       "      <td>1.036825</td>\n",
       "    </tr>\n",
       "    <tr>\n",
       "      <th>...</th>\n",
       "      <td>...</td>\n",
       "      <td>...</td>\n",
       "      <td>...</td>\n",
       "      <td>...</td>\n",
       "    </tr>\n",
       "    <tr>\n",
       "      <th>1105</th>\n",
       "      <td>Zimbabwe</td>\n",
       "      <td>2018-01-01</td>\n",
       "      <td>5.01</td>\n",
       "      <td>2.101721</td>\n",
       "    </tr>\n",
       "    <tr>\n",
       "      <th>1106</th>\n",
       "      <td>Zimbabwe</td>\n",
       "      <td>2019-01-01</td>\n",
       "      <td>-6.33</td>\n",
       "      <td>1.142806</td>\n",
       "    </tr>\n",
       "    <tr>\n",
       "      <th>1107</th>\n",
       "      <td>Zimbabwe</td>\n",
       "      <td>2020-01-01</td>\n",
       "      <td>-7.82</td>\n",
       "      <td>0.699033</td>\n",
       "    </tr>\n",
       "    <tr>\n",
       "      <th>1108</th>\n",
       "      <td>Zimbabwe</td>\n",
       "      <td>2021-01-01</td>\n",
       "      <td>8.47</td>\n",
       "      <td>0.881174</td>\n",
       "    </tr>\n",
       "    <tr>\n",
       "      <th>1109</th>\n",
       "      <td>Zimbabwe</td>\n",
       "      <td>2022-01-01</td>\n",
       "      <td>6.52</td>\n",
       "      <td>1.247870</td>\n",
       "    </tr>\n",
       "  </tbody>\n",
       "</table>\n",
       "<p>1110 rows × 4 columns</p>\n",
       "</div>"
      ],
      "text/plain": [
       "        Entity       Year  Annual GDP growth (%)  \\\n",
       "0      Algeria 2000-01-01                   3.80   \n",
       "1      Algeria 2001-01-01                   3.00   \n",
       "2      Algeria 2002-01-01                   5.60   \n",
       "3      Algeria 2003-01-01                   7.20   \n",
       "4      Algeria 2004-01-01                   4.30   \n",
       "...        ...        ...                    ...   \n",
       "1105  Zimbabwe 2018-01-01                   5.01   \n",
       "1106  Zimbabwe 2019-01-01                  -6.33   \n",
       "1107  Zimbabwe 2020-01-01                  -7.82   \n",
       "1108  Zimbabwe 2021-01-01                   8.47   \n",
       "1109  Zimbabwe 2022-01-01                   6.52   \n",
       "\n",
       "      Foreign direct investment, net inflows (% of GDP)  \n",
       "0                                              0.511221  \n",
       "1                                              2.033266  \n",
       "2                                              1.876239  \n",
       "3                                              0.939901  \n",
       "4                                              1.036825  \n",
       "...                                                 ...  \n",
       "1105                                           2.101721  \n",
       "1106                                           1.142806  \n",
       "1107                                           0.699033  \n",
       "1108                                           0.881174  \n",
       "1109                                           1.247870  \n",
       "\n",
       "[1110 rows x 4 columns]"
      ]
     },
     "execution_count": 111,
     "metadata": {},
     "output_type": "execute_result"
    }
   ],
   "source": [
    "gdp_growth_fdi_inflows.head()\n",
    "\n",
    "# getting first 5 rows of data"
   ]
  },
  {
   "cell_type": "code",
   "execution_count": 112,
   "id": "eb6f585a",
   "metadata": {},
   "outputs": [
    {
     "data": {
      "text/plain": [
       "Entity                                               0\n",
       "Year                                                 0\n",
       "Annual GDP growth (%)                                0\n",
       "Foreign direct investment, net inflows (% of GDP)    0\n",
       "dtype: int64"
      ]
     },
     "execution_count": 112,
     "metadata": {},
     "output_type": "execute_result"
    }
   ],
   "source": [
    "gdp_growth_fdi_inflows.isna().sum()\n",
    "\n",
    "# checking for null values"
   ]
  },
  {
   "cell_type": "code",
   "execution_count": 113,
   "id": "5acdbdcf",
   "metadata": {},
   "outputs": [
    {
     "data": {
      "text/html": [
       "<div>\n",
       "<style scoped>\n",
       "    .dataframe tbody tr th:only-of-type {\n",
       "        vertical-align: middle;\n",
       "    }\n",
       "\n",
       "    .dataframe tbody tr th {\n",
       "        vertical-align: top;\n",
       "    }\n",
       "\n",
       "    .dataframe thead th {\n",
       "        text-align: right;\n",
       "    }\n",
       "</style>\n",
       "<table border=\"1\" class=\"dataframe\">\n",
       "  <thead>\n",
       "    <tr style=\"text-align: right;\">\n",
       "      <th></th>\n",
       "      <th>Annual GDP growth (%)</th>\n",
       "      <th>Foreign direct investment, net inflows (% of GDP)</th>\n",
       "    </tr>\n",
       "  </thead>\n",
       "  <tbody>\n",
       "    <tr>\n",
       "      <th>count</th>\n",
       "      <td>1110.000000</td>\n",
       "      <td>1110.000000</td>\n",
       "    </tr>\n",
       "    <tr>\n",
       "      <th>mean</th>\n",
       "      <td>3.897874</td>\n",
       "      <td>4.192429</td>\n",
       "    </tr>\n",
       "    <tr>\n",
       "      <th>std</th>\n",
       "      <td>6.364120</td>\n",
       "      <td>7.791634</td>\n",
       "    </tr>\n",
       "    <tr>\n",
       "      <th>min</th>\n",
       "      <td>-50.340000</td>\n",
       "      <td>-17.292236</td>\n",
       "    </tr>\n",
       "    <tr>\n",
       "      <th>25%</th>\n",
       "      <td>2.067500</td>\n",
       "      <td>0.982091</td>\n",
       "    </tr>\n",
       "    <tr>\n",
       "      <th>50%</th>\n",
       "      <td>4.150000</td>\n",
       "      <td>2.398889</td>\n",
       "    </tr>\n",
       "    <tr>\n",
       "      <th>75%</th>\n",
       "      <td>6.170000</td>\n",
       "      <td>4.757189</td>\n",
       "    </tr>\n",
       "    <tr>\n",
       "      <th>max</th>\n",
       "      <td>86.830000</td>\n",
       "      <td>103.337390</td>\n",
       "    </tr>\n",
       "  </tbody>\n",
       "</table>\n",
       "</div>"
      ],
      "text/plain": [
       "       Annual GDP growth (%)  \\\n",
       "count            1110.000000   \n",
       "mean                3.897874   \n",
       "std                 6.364120   \n",
       "min               -50.340000   \n",
       "25%                 2.067500   \n",
       "50%                 4.150000   \n",
       "75%                 6.170000   \n",
       "max                86.830000   \n",
       "\n",
       "       Foreign direct investment, net inflows (% of GDP)  \n",
       "count                                        1110.000000  \n",
       "mean                                            4.192429  \n",
       "std                                             7.791634  \n",
       "min                                           -17.292236  \n",
       "25%                                             0.982091  \n",
       "50%                                             2.398889  \n",
       "75%                                             4.757189  \n",
       "max                                           103.337390  "
      ]
     },
     "execution_count": 113,
     "metadata": {},
     "output_type": "execute_result"
    }
   ],
   "source": [
    "gdp_growth_fdi_inflows.describe()\n",
    "\n",
    "# Descriptive statistics for numeric columns"
   ]
  },
  {
   "cell_type": "code",
   "execution_count": 121,
   "id": "771d85db",
   "metadata": {},
   "outputs": [],
   "source": [
    "gdp_growth_fdi_inflows.to_csv(r\"gdp_growth_fdi_inflows.csv\", index=False)\n",
    "\n",
    "# exporting merged data to my file directory"
   ]
  },
  {
   "cell_type": "code",
   "execution_count": 115,
   "id": "34b9709a",
   "metadata": {},
   "outputs": [],
   "source": [
    "icp_fdi_inflows = icp_af.merge(fdi_inflow_as_share_of_gdp_af, on=['Entity', 'Year'])\n",
    "\n",
    "# Merginig datasets"
   ]
  },
  {
   "cell_type": "code",
   "execution_count": 117,
   "id": "a718ee62",
   "metadata": {},
   "outputs": [
    {
     "data": {
      "text/html": [
       "<div>\n",
       "<style scoped>\n",
       "    .dataframe tbody tr th:only-of-type {\n",
       "        vertical-align: middle;\n",
       "    }\n",
       "\n",
       "    .dataframe tbody tr th {\n",
       "        vertical-align: top;\n",
       "    }\n",
       "\n",
       "    .dataframe thead th {\n",
       "        text-align: right;\n",
       "    }\n",
       "</style>\n",
       "<table border=\"1\" class=\"dataframe\">\n",
       "  <thead>\n",
       "    <tr style=\"text-align: right;\">\n",
       "      <th></th>\n",
       "      <th>Entity</th>\n",
       "      <th>Year</th>\n",
       "      <th>Inflation (annual %)</th>\n",
       "      <th>Foreign direct investment, net inflows (% of GDP)</th>\n",
       "    </tr>\n",
       "  </thead>\n",
       "  <tbody>\n",
       "    <tr>\n",
       "      <th>0</th>\n",
       "      <td>Algeria</td>\n",
       "      <td>2016-01-01</td>\n",
       "      <td>6.600000</td>\n",
       "      <td>1.023696</td>\n",
       "    </tr>\n",
       "    <tr>\n",
       "      <th>1</th>\n",
       "      <td>Algeria</td>\n",
       "      <td>2016-01-01</td>\n",
       "      <td>4.268954</td>\n",
       "      <td>1.023696</td>\n",
       "    </tr>\n",
       "    <tr>\n",
       "      <th>2</th>\n",
       "      <td>Algeria</td>\n",
       "      <td>2017-01-01</td>\n",
       "      <td>2.626642</td>\n",
       "      <td>0.723260</td>\n",
       "    </tr>\n",
       "    <tr>\n",
       "      <th>3</th>\n",
       "      <td>Algeria</td>\n",
       "      <td>2017-01-01</td>\n",
       "      <td>3.961800</td>\n",
       "      <td>0.723260</td>\n",
       "    </tr>\n",
       "    <tr>\n",
       "      <th>4</th>\n",
       "      <td>Algeria</td>\n",
       "      <td>2018-01-01</td>\n",
       "      <td>3.656307</td>\n",
       "      <td>0.838208</td>\n",
       "    </tr>\n",
       "  </tbody>\n",
       "</table>\n",
       "</div>"
      ],
      "text/plain": [
       "    Entity       Year  Inflation (annual %)  \\\n",
       "0  Algeria 2016-01-01              6.600000   \n",
       "1  Algeria 2016-01-01              4.268954   \n",
       "2  Algeria 2017-01-01              2.626642   \n",
       "3  Algeria 2017-01-01              3.961800   \n",
       "4  Algeria 2018-01-01              3.656307   \n",
       "\n",
       "   Foreign direct investment, net inflows (% of GDP)  \n",
       "0                                           1.023696  \n",
       "1                                           1.023696  \n",
       "2                                           0.723260  \n",
       "3                                           0.723260  \n",
       "4                                           0.838208  "
      ]
     },
     "execution_count": 117,
     "metadata": {},
     "output_type": "execute_result"
    }
   ],
   "source": [
    "icp_fdi_inflows.head()\n",
    "\n",
    "# getting the first 5 rows"
   ]
  },
  {
   "cell_type": "code",
   "execution_count": 118,
   "id": "df7521da",
   "metadata": {},
   "outputs": [
    {
     "data": {
      "text/plain": [
       "Entity                                               0\n",
       "Year                                                 0\n",
       "Inflation (annual %)                                 0\n",
       "Foreign direct investment, net inflows (% of GDP)    0\n",
       "dtype: int64"
      ]
     },
     "execution_count": 118,
     "metadata": {},
     "output_type": "execute_result"
    }
   ],
   "source": [
    "icp_fdi_inflows.isna().sum()\n",
    "\n",
    "# Checking for null values"
   ]
  },
  {
   "cell_type": "code",
   "execution_count": 119,
   "id": "fd903118",
   "metadata": {},
   "outputs": [
    {
     "data": {
      "text/html": [
       "<div>\n",
       "<style scoped>\n",
       "    .dataframe tbody tr th:only-of-type {\n",
       "        vertical-align: middle;\n",
       "    }\n",
       "\n",
       "    .dataframe tbody tr th {\n",
       "        vertical-align: top;\n",
       "    }\n",
       "\n",
       "    .dataframe thead th {\n",
       "        text-align: right;\n",
       "    }\n",
       "</style>\n",
       "<table border=\"1\" class=\"dataframe\">\n",
       "  <thead>\n",
       "    <tr style=\"text-align: right;\">\n",
       "      <th></th>\n",
       "      <th>Inflation (annual %)</th>\n",
       "      <th>Foreign direct investment, net inflows (% of GDP)</th>\n",
       "    </tr>\n",
       "  </thead>\n",
       "  <tbody>\n",
       "    <tr>\n",
       "      <th>count</th>\n",
       "      <td>1560.000000</td>\n",
       "      <td>1560.000000</td>\n",
       "    </tr>\n",
       "    <tr>\n",
       "      <th>mean</th>\n",
       "      <td>15.510224</td>\n",
       "      <td>3.094039</td>\n",
       "    </tr>\n",
       "    <tr>\n",
       "      <th>std</th>\n",
       "      <td>132.571457</td>\n",
       "      <td>7.154550</td>\n",
       "    </tr>\n",
       "    <tr>\n",
       "      <th>min</th>\n",
       "      <td>-17.640425</td>\n",
       "      <td>-17.292236</td>\n",
       "    </tr>\n",
       "    <tr>\n",
       "      <th>25%</th>\n",
       "      <td>2.601345</td>\n",
       "      <td>0.468169</td>\n",
       "    </tr>\n",
       "    <tr>\n",
       "      <th>50%</th>\n",
       "      <td>6.265068</td>\n",
       "      <td>1.644781</td>\n",
       "    </tr>\n",
       "    <tr>\n",
       "      <th>75%</th>\n",
       "      <td>11.569397</td>\n",
       "      <td>3.633673</td>\n",
       "    </tr>\n",
       "    <tr>\n",
       "      <th>max</th>\n",
       "      <td>4145.106000</td>\n",
       "      <td>161.823760</td>\n",
       "    </tr>\n",
       "  </tbody>\n",
       "</table>\n",
       "</div>"
      ],
      "text/plain": [
       "       Inflation (annual %)  Foreign direct investment, net inflows (% of GDP)\n",
       "count           1560.000000                                        1560.000000\n",
       "mean              15.510224                                           3.094039\n",
       "std              132.571457                                           7.154550\n",
       "min              -17.640425                                         -17.292236\n",
       "25%                2.601345                                           0.468169\n",
       "50%                6.265068                                           1.644781\n",
       "75%               11.569397                                           3.633673\n",
       "max             4145.106000                                         161.823760"
      ]
     },
     "execution_count": 119,
     "metadata": {},
     "output_type": "execute_result"
    }
   ],
   "source": [
    "icp_fdi_inflows.describe()\n",
    "\n",
    "# Descriptive statistics for numeric columns"
   ]
  },
  {
   "cell_type": "code",
   "execution_count": 120,
   "id": "47f3f24f",
   "metadata": {},
   "outputs": [],
   "source": [
    "icp_fdi_inflows.to_csv(r\"icp_fdi_inflows.csv\", index=False)\n",
    "\n",
    "# exporting merged data to my file directory"
   ]
  }
 ],
 "metadata": {
  "kernelspec": {
   "display_name": "Python 3 (ipykernel)",
   "language": "python",
   "name": "python3"
  },
  "language_info": {
   "codemirror_mode": {
    "name": "ipython",
    "version": 3
   },
   "file_extension": ".py",
   "mimetype": "text/x-python",
   "name": "python",
   "nbconvert_exporter": "python",
   "pygments_lexer": "ipython3",
   "version": "3.9.7"
  }
 },
 "nbformat": 4,
 "nbformat_minor": 5
}
